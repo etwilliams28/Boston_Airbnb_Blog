{
 "cells": [
  {
   "cell_type": "code",
   "execution_count": 1,
   "metadata": {},
   "outputs": [],
   "source": [
    "import pandas as pd\n",
    "import numpy as np\n",
    "import seaborn as sns\n",
    "import matplotlib.pyplot as plt\n",
    "\n",
    "from sklearn.preprocessing import StandardScaler\n",
    "from sklearn.linear_model import LogisticRegression\n",
    "from sklearn.pipeline import make_pipeline\n",
    "from sklearn.model_selection import train_test_split\n",
    "from sklearn.metrics import accuracy_score\n",
    "from collections import defaultdict\n",
    "from sklearn.impute import SimpleImputer\n",
    "from sklearn.metrics import r2_score, mean_squared_error\n",
    "from sklearn.preprocessing import LabelEncoder\n"
   ]
  },
  {
   "cell_type": "code",
   "execution_count": 2,
   "metadata": {},
   "outputs": [],
   "source": [
    "calender = pd.read_csv(r\"C:\\Users\\ethanwilliams\\Desktop\\airbnb_ml\\Boston\\calendar.csv\")\n",
    "listings = pd.read_csv(r\"C:\\Users\\ethanwilliams\\Desktop\\airbnb_ml\\Boston\\listings.csv\")\n",
    "reviews = pd.read_csv(r\"C:\\Users\\ethanwilliams\\Desktop\\airbnb_ml\\Boston\\reviews.csv\")"
   ]
  },
  {
   "cell_type": "markdown",
   "metadata": {},
   "source": [
    "##  Understanding:\n",
    "\n",
    "We \n",
    "    "
   ]
  },
  {
   "cell_type": "code",
   "execution_count": 3,
   "metadata": {},
   "outputs": [
    {
     "data": {
      "text/plain": [
       "(3585, 95)"
      ]
     },
     "execution_count": 3,
     "metadata": {},
     "output_type": "execute_result"
    }
   ],
   "source": [
    "listings.shape"
   ]
  },
  {
   "cell_type": "code",
   "execution_count": 4,
   "metadata": {},
   "outputs": [
    {
     "data": {
      "text/plain": [
       "(68275, 6)"
      ]
     },
     "execution_count": 4,
     "metadata": {},
     "output_type": "execute_result"
    }
   ],
   "source": [
    "reviews.shape"
   ]
  },
  {
   "cell_type": "code",
   "execution_count": 5,
   "metadata": {},
   "outputs": [
    {
     "data": {
      "text/plain": [
       "(1308890, 4)"
      ]
     },
     "execution_count": 5,
     "metadata": {},
     "output_type": "execute_result"
    }
   ],
   "source": [
    "calender.shape"
   ]
  },
  {
   "cell_type": "code",
   "execution_count": 6,
   "metadata": {
    "scrolled": true
   },
   "outputs": [
    {
     "data": {
      "text/html": [
       "<div>\n",
       "<style scoped>\n",
       "    .dataframe tbody tr th:only-of-type {\n",
       "        vertical-align: middle;\n",
       "    }\n",
       "\n",
       "    .dataframe tbody tr th {\n",
       "        vertical-align: top;\n",
       "    }\n",
       "\n",
       "    .dataframe thead th {\n",
       "        text-align: right;\n",
       "    }\n",
       "</style>\n",
       "<table border=\"1\" class=\"dataframe\">\n",
       "  <thead>\n",
       "    <tr style=\"text-align: right;\">\n",
       "      <th></th>\n",
       "      <th>listing_id</th>\n",
       "      <th>date</th>\n",
       "      <th>available</th>\n",
       "      <th>price</th>\n",
       "    </tr>\n",
       "  </thead>\n",
       "  <tbody>\n",
       "    <tr>\n",
       "      <td>0</td>\n",
       "      <td>12147973</td>\n",
       "      <td>2017-09-05</td>\n",
       "      <td>f</td>\n",
       "      <td>NaN</td>\n",
       "    </tr>\n",
       "    <tr>\n",
       "      <td>1</td>\n",
       "      <td>12147973</td>\n",
       "      <td>2017-09-04</td>\n",
       "      <td>f</td>\n",
       "      <td>NaN</td>\n",
       "    </tr>\n",
       "    <tr>\n",
       "      <td>2</td>\n",
       "      <td>12147973</td>\n",
       "      <td>2017-09-03</td>\n",
       "      <td>f</td>\n",
       "      <td>NaN</td>\n",
       "    </tr>\n",
       "    <tr>\n",
       "      <td>3</td>\n",
       "      <td>12147973</td>\n",
       "      <td>2017-09-02</td>\n",
       "      <td>f</td>\n",
       "      <td>NaN</td>\n",
       "    </tr>\n",
       "    <tr>\n",
       "      <td>4</td>\n",
       "      <td>12147973</td>\n",
       "      <td>2017-09-01</td>\n",
       "      <td>f</td>\n",
       "      <td>NaN</td>\n",
       "    </tr>\n",
       "    <tr>\n",
       "      <td>...</td>\n",
       "      <td>...</td>\n",
       "      <td>...</td>\n",
       "      <td>...</td>\n",
       "      <td>...</td>\n",
       "    </tr>\n",
       "    <tr>\n",
       "      <td>1308885</td>\n",
       "      <td>14504422</td>\n",
       "      <td>2016-09-10</td>\n",
       "      <td>f</td>\n",
       "      <td>NaN</td>\n",
       "    </tr>\n",
       "    <tr>\n",
       "      <td>1308886</td>\n",
       "      <td>14504422</td>\n",
       "      <td>2016-09-09</td>\n",
       "      <td>f</td>\n",
       "      <td>NaN</td>\n",
       "    </tr>\n",
       "    <tr>\n",
       "      <td>1308887</td>\n",
       "      <td>14504422</td>\n",
       "      <td>2016-09-08</td>\n",
       "      <td>f</td>\n",
       "      <td>NaN</td>\n",
       "    </tr>\n",
       "    <tr>\n",
       "      <td>1308888</td>\n",
       "      <td>14504422</td>\n",
       "      <td>2016-09-07</td>\n",
       "      <td>f</td>\n",
       "      <td>NaN</td>\n",
       "    </tr>\n",
       "    <tr>\n",
       "      <td>1308889</td>\n",
       "      <td>14504422</td>\n",
       "      <td>2016-09-06</td>\n",
       "      <td>f</td>\n",
       "      <td>NaN</td>\n",
       "    </tr>\n",
       "  </tbody>\n",
       "</table>\n",
       "<p>1308890 rows × 4 columns</p>\n",
       "</div>"
      ],
      "text/plain": [
       "         listing_id        date available price\n",
       "0          12147973  2017-09-05         f   NaN\n",
       "1          12147973  2017-09-04         f   NaN\n",
       "2          12147973  2017-09-03         f   NaN\n",
       "3          12147973  2017-09-02         f   NaN\n",
       "4          12147973  2017-09-01         f   NaN\n",
       "...             ...         ...       ...   ...\n",
       "1308885    14504422  2016-09-10         f   NaN\n",
       "1308886    14504422  2016-09-09         f   NaN\n",
       "1308887    14504422  2016-09-08         f   NaN\n",
       "1308888    14504422  2016-09-07         f   NaN\n",
       "1308889    14504422  2016-09-06         f   NaN\n",
       "\n",
       "[1308890 rows x 4 columns]"
      ]
     },
     "execution_count": 6,
     "metadata": {},
     "output_type": "execute_result"
    }
   ],
   "source": [
    "calender"
   ]
  },
  {
   "cell_type": "code",
   "execution_count": 7,
   "metadata": {
    "scrolled": true
   },
   "outputs": [
    {
     "data": {
      "text/plain": [
       "Index(['id', 'listing_url', 'scrape_id', 'last_scraped', 'name', 'summary',\n",
       "       'space', 'description', 'experiences_offered', 'neighborhood_overview',\n",
       "       'notes', 'transit', 'access', 'interaction', 'house_rules',\n",
       "       'thumbnail_url', 'medium_url', 'picture_url', 'xl_picture_url',\n",
       "       'host_id', 'host_url', 'host_name', 'host_since', 'host_location',\n",
       "       'host_about', 'host_response_time', 'host_response_rate',\n",
       "       'host_acceptance_rate', 'host_is_superhost', 'host_thumbnail_url',\n",
       "       'host_picture_url', 'host_neighbourhood', 'host_listings_count',\n",
       "       'host_total_listings_count', 'host_verifications',\n",
       "       'host_has_profile_pic', 'host_identity_verified', 'street',\n",
       "       'neighbourhood', 'neighbourhood_cleansed',\n",
       "       'neighbourhood_group_cleansed', 'city', 'state', 'zipcode', 'market',\n",
       "       'smart_location', 'country_code', 'country', 'latitude', 'longitude',\n",
       "       'is_location_exact', 'property_type', 'room_type', 'accommodates',\n",
       "       'bathrooms', 'bedrooms', 'beds', 'bed_type', 'amenities', 'square_feet',\n",
       "       'price', 'weekly_price', 'monthly_price', 'security_deposit',\n",
       "       'cleaning_fee', 'guests_included', 'extra_people', 'minimum_nights',\n",
       "       'maximum_nights', 'calendar_updated', 'has_availability',\n",
       "       'availability_30', 'availability_60', 'availability_90',\n",
       "       'availability_365', 'calendar_last_scraped', 'number_of_reviews',\n",
       "       'first_review', 'last_review', 'review_scores_rating',\n",
       "       'review_scores_accuracy', 'review_scores_cleanliness',\n",
       "       'review_scores_checkin', 'review_scores_communication',\n",
       "       'review_scores_location', 'review_scores_value', 'requires_license',\n",
       "       'license', 'jurisdiction_names', 'instant_bookable',\n",
       "       'cancellation_policy', 'require_guest_profile_picture',\n",
       "       'require_guest_phone_verification', 'calculated_host_listings_count',\n",
       "       'reviews_per_month'],\n",
       "      dtype='object')"
      ]
     },
     "execution_count": 7,
     "metadata": {},
     "output_type": "execute_result"
    }
   ],
   "source": [
    "listings.columns"
   ]
  },
  {
   "cell_type": "code",
   "execution_count": 8,
   "metadata": {},
   "outputs": [
    {
     "data": {
      "text/plain": [
       "Index(['listing_id', 'date', 'available', 'price'], dtype='object')"
      ]
     },
     "execution_count": 8,
     "metadata": {},
     "output_type": "execute_result"
    }
   ],
   "source": [
    "calender.columns"
   ]
  },
  {
   "cell_type": "code",
   "execution_count": 9,
   "metadata": {},
   "outputs": [
    {
     "data": {
      "text/html": [
       "<div>\n",
       "<style scoped>\n",
       "    .dataframe tbody tr th:only-of-type {\n",
       "        vertical-align: middle;\n",
       "    }\n",
       "\n",
       "    .dataframe tbody tr th {\n",
       "        vertical-align: top;\n",
       "    }\n",
       "\n",
       "    .dataframe thead th {\n",
       "        text-align: right;\n",
       "    }\n",
       "</style>\n",
       "<table border=\"1\" class=\"dataframe\">\n",
       "  <thead>\n",
       "    <tr style=\"text-align: right;\">\n",
       "      <th></th>\n",
       "      <th>id</th>\n",
       "      <th>listing_url</th>\n",
       "      <th>scrape_id</th>\n",
       "      <th>last_scraped</th>\n",
       "      <th>name</th>\n",
       "      <th>summary</th>\n",
       "      <th>space</th>\n",
       "      <th>description</th>\n",
       "      <th>experiences_offered</th>\n",
       "      <th>neighborhood_overview</th>\n",
       "      <th>...</th>\n",
       "      <th>review_scores_value</th>\n",
       "      <th>requires_license</th>\n",
       "      <th>license</th>\n",
       "      <th>jurisdiction_names</th>\n",
       "      <th>instant_bookable</th>\n",
       "      <th>cancellation_policy</th>\n",
       "      <th>require_guest_profile_picture</th>\n",
       "      <th>require_guest_phone_verification</th>\n",
       "      <th>calculated_host_listings_count</th>\n",
       "      <th>reviews_per_month</th>\n",
       "    </tr>\n",
       "  </thead>\n",
       "  <tbody>\n",
       "    <tr>\n",
       "      <td>0</td>\n",
       "      <td>12147973</td>\n",
       "      <td>https://www.airbnb.com/rooms/12147973</td>\n",
       "      <td>20160906204935</td>\n",
       "      <td>2016-09-07</td>\n",
       "      <td>Sunny Bungalow in the City</td>\n",
       "      <td>Cozy, sunny, family home.  Master bedroom high...</td>\n",
       "      <td>The house has an open and cozy feel at the sam...</td>\n",
       "      <td>Cozy, sunny, family home.  Master bedroom high...</td>\n",
       "      <td>none</td>\n",
       "      <td>Roslindale is quiet, convenient and friendly. ...</td>\n",
       "      <td>...</td>\n",
       "      <td>NaN</td>\n",
       "      <td>f</td>\n",
       "      <td>NaN</td>\n",
       "      <td>NaN</td>\n",
       "      <td>f</td>\n",
       "      <td>moderate</td>\n",
       "      <td>f</td>\n",
       "      <td>f</td>\n",
       "      <td>1</td>\n",
       "      <td>NaN</td>\n",
       "    </tr>\n",
       "    <tr>\n",
       "      <td>1</td>\n",
       "      <td>3075044</td>\n",
       "      <td>https://www.airbnb.com/rooms/3075044</td>\n",
       "      <td>20160906204935</td>\n",
       "      <td>2016-09-07</td>\n",
       "      <td>Charming room in pet friendly apt</td>\n",
       "      <td>Charming and quiet room in a second floor 1910...</td>\n",
       "      <td>Small but cozy and quite room with a full size...</td>\n",
       "      <td>Charming and quiet room in a second floor 1910...</td>\n",
       "      <td>none</td>\n",
       "      <td>The room is in Roslindale, a diverse and prima...</td>\n",
       "      <td>...</td>\n",
       "      <td>9.0</td>\n",
       "      <td>f</td>\n",
       "      <td>NaN</td>\n",
       "      <td>NaN</td>\n",
       "      <td>t</td>\n",
       "      <td>moderate</td>\n",
       "      <td>f</td>\n",
       "      <td>f</td>\n",
       "      <td>1</td>\n",
       "      <td>1.30</td>\n",
       "    </tr>\n",
       "    <tr>\n",
       "      <td>2</td>\n",
       "      <td>6976</td>\n",
       "      <td>https://www.airbnb.com/rooms/6976</td>\n",
       "      <td>20160906204935</td>\n",
       "      <td>2016-09-07</td>\n",
       "      <td>Mexican Folk Art Haven in Boston</td>\n",
       "      <td>Come stay with a friendly, middle-aged guy in ...</td>\n",
       "      <td>Come stay with a friendly, middle-aged guy in ...</td>\n",
       "      <td>Come stay with a friendly, middle-aged guy in ...</td>\n",
       "      <td>none</td>\n",
       "      <td>The LOCATION: Roslindale is a safe and diverse...</td>\n",
       "      <td>...</td>\n",
       "      <td>10.0</td>\n",
       "      <td>f</td>\n",
       "      <td>NaN</td>\n",
       "      <td>NaN</td>\n",
       "      <td>f</td>\n",
       "      <td>moderate</td>\n",
       "      <td>t</td>\n",
       "      <td>f</td>\n",
       "      <td>1</td>\n",
       "      <td>0.47</td>\n",
       "    </tr>\n",
       "    <tr>\n",
       "      <td>3</td>\n",
       "      <td>1436513</td>\n",
       "      <td>https://www.airbnb.com/rooms/1436513</td>\n",
       "      <td>20160906204935</td>\n",
       "      <td>2016-09-07</td>\n",
       "      <td>Spacious Sunny Bedroom Suite in Historic Home</td>\n",
       "      <td>Come experience the comforts of home away from...</td>\n",
       "      <td>Most places you find in Boston are small howev...</td>\n",
       "      <td>Come experience the comforts of home away from...</td>\n",
       "      <td>none</td>\n",
       "      <td>Roslindale is a lovely little neighborhood loc...</td>\n",
       "      <td>...</td>\n",
       "      <td>10.0</td>\n",
       "      <td>f</td>\n",
       "      <td>NaN</td>\n",
       "      <td>NaN</td>\n",
       "      <td>f</td>\n",
       "      <td>moderate</td>\n",
       "      <td>f</td>\n",
       "      <td>f</td>\n",
       "      <td>1</td>\n",
       "      <td>1.00</td>\n",
       "    </tr>\n",
       "    <tr>\n",
       "      <td>4</td>\n",
       "      <td>7651065</td>\n",
       "      <td>https://www.airbnb.com/rooms/7651065</td>\n",
       "      <td>20160906204935</td>\n",
       "      <td>2016-09-07</td>\n",
       "      <td>Come Home to Boston</td>\n",
       "      <td>My comfy, clean and relaxing home is one block...</td>\n",
       "      <td>Clean, attractive, private room, one block fro...</td>\n",
       "      <td>My comfy, clean and relaxing home is one block...</td>\n",
       "      <td>none</td>\n",
       "      <td>I love the proximity to downtown, the neighbor...</td>\n",
       "      <td>...</td>\n",
       "      <td>10.0</td>\n",
       "      <td>f</td>\n",
       "      <td>NaN</td>\n",
       "      <td>NaN</td>\n",
       "      <td>f</td>\n",
       "      <td>flexible</td>\n",
       "      <td>f</td>\n",
       "      <td>f</td>\n",
       "      <td>1</td>\n",
       "      <td>2.25</td>\n",
       "    </tr>\n",
       "  </tbody>\n",
       "</table>\n",
       "<p>5 rows × 95 columns</p>\n",
       "</div>"
      ],
      "text/plain": [
       "         id                            listing_url       scrape_id  \\\n",
       "0  12147973  https://www.airbnb.com/rooms/12147973  20160906204935   \n",
       "1   3075044   https://www.airbnb.com/rooms/3075044  20160906204935   \n",
       "2      6976      https://www.airbnb.com/rooms/6976  20160906204935   \n",
       "3   1436513   https://www.airbnb.com/rooms/1436513  20160906204935   \n",
       "4   7651065   https://www.airbnb.com/rooms/7651065  20160906204935   \n",
       "\n",
       "  last_scraped                                           name  \\\n",
       "0   2016-09-07                     Sunny Bungalow in the City   \n",
       "1   2016-09-07              Charming room in pet friendly apt   \n",
       "2   2016-09-07               Mexican Folk Art Haven in Boston   \n",
       "3   2016-09-07  Spacious Sunny Bedroom Suite in Historic Home   \n",
       "4   2016-09-07                            Come Home to Boston   \n",
       "\n",
       "                                             summary  \\\n",
       "0  Cozy, sunny, family home.  Master bedroom high...   \n",
       "1  Charming and quiet room in a second floor 1910...   \n",
       "2  Come stay with a friendly, middle-aged guy in ...   \n",
       "3  Come experience the comforts of home away from...   \n",
       "4  My comfy, clean and relaxing home is one block...   \n",
       "\n",
       "                                               space  \\\n",
       "0  The house has an open and cozy feel at the sam...   \n",
       "1  Small but cozy and quite room with a full size...   \n",
       "2  Come stay with a friendly, middle-aged guy in ...   \n",
       "3  Most places you find in Boston are small howev...   \n",
       "4  Clean, attractive, private room, one block fro...   \n",
       "\n",
       "                                         description experiences_offered  \\\n",
       "0  Cozy, sunny, family home.  Master bedroom high...                none   \n",
       "1  Charming and quiet room in a second floor 1910...                none   \n",
       "2  Come stay with a friendly, middle-aged guy in ...                none   \n",
       "3  Come experience the comforts of home away from...                none   \n",
       "4  My comfy, clean and relaxing home is one block...                none   \n",
       "\n",
       "                               neighborhood_overview  ... review_scores_value  \\\n",
       "0  Roslindale is quiet, convenient and friendly. ...  ...                 NaN   \n",
       "1  The room is in Roslindale, a diverse and prima...  ...                 9.0   \n",
       "2  The LOCATION: Roslindale is a safe and diverse...  ...                10.0   \n",
       "3  Roslindale is a lovely little neighborhood loc...  ...                10.0   \n",
       "4  I love the proximity to downtown, the neighbor...  ...                10.0   \n",
       "\n",
       "  requires_license license jurisdiction_names instant_bookable  \\\n",
       "0                f     NaN                NaN                f   \n",
       "1                f     NaN                NaN                t   \n",
       "2                f     NaN                NaN                f   \n",
       "3                f     NaN                NaN                f   \n",
       "4                f     NaN                NaN                f   \n",
       "\n",
       "  cancellation_policy require_guest_profile_picture  \\\n",
       "0            moderate                             f   \n",
       "1            moderate                             f   \n",
       "2            moderate                             t   \n",
       "3            moderate                             f   \n",
       "4            flexible                             f   \n",
       "\n",
       "  require_guest_phone_verification calculated_host_listings_count  \\\n",
       "0                                f                              1   \n",
       "1                                f                              1   \n",
       "2                                f                              1   \n",
       "3                                f                              1   \n",
       "4                                f                              1   \n",
       "\n",
       "   reviews_per_month  \n",
       "0                NaN  \n",
       "1               1.30  \n",
       "2               0.47  \n",
       "3               1.00  \n",
       "4               2.25  \n",
       "\n",
       "[5 rows x 95 columns]"
      ]
     },
     "execution_count": 9,
     "metadata": {},
     "output_type": "execute_result"
    }
   ],
   "source": [
    "listings.head()"
   ]
  },
  {
   "cell_type": "code",
   "execution_count": 10,
   "metadata": {},
   "outputs": [
    {
     "data": {
      "text/plain": [
       "0     12147973\n",
       "1      3075044\n",
       "2         6976\n",
       "3      1436513\n",
       "4      7651065\n",
       "5     12386020\n",
       "6      5706985\n",
       "7      2843445\n",
       "8       753446\n",
       "9       849408\n",
       "10    12023024\n",
       "11     1668313\n",
       "12     2684840\n",
       "13    13547301\n",
       "14     5434353\n",
       "15      225979\n",
       "16     3420384\n",
       "17    13512930\n",
       "18     7482195\n",
       "19     7252607\n",
       "20     2583074\n",
       "21    13251243\n",
       "22      225834\n",
       "23     6400432\n",
       "24     5498472\n",
       "25      894539\n",
       "26      879929\n",
       "27     9218312\n",
       "28      321328\n",
       "29     1810172\n",
       "30     6513924\n",
       "31     7093109\n",
       "32    14690527\n",
       "33     7086825\n",
       "34     1861070\n",
       "35     4283698\n",
       "36    10116095\n",
       "37     8548176\n",
       "38     4922204\n",
       "39     4085362\n",
       "40     3755609\n",
       "41    13768853\n",
       "42     1936861\n",
       "43     4461111\n",
       "44     1724900\n",
       "45    13937181\n",
       "46     3968797\n",
       "47     1494726\n",
       "48     8473851\n",
       "49     3575220\n",
       "Name: id, dtype: int64"
      ]
     },
     "execution_count": 10,
     "metadata": {},
     "output_type": "execute_result"
    }
   ],
   "source": [
    "listings['id'][:50]"
   ]
  },
  {
   "cell_type": "code",
   "execution_count": 11,
   "metadata": {},
   "outputs": [],
   "source": [
    "listings = listings.dropna(subset=['id',\"price\"], axis=0)\n",
    "listings['price'] = listings['price'].map(lambda x: x.lstrip('$'))\n",
    "listings['price'] = listings['price'].replace(',','', regex=True)\n",
    "listings['id'] = listings['id'].astype(int)\n",
    "listings['price'] = listings['price'].astype(float)"
   ]
  },
  {
   "cell_type": "markdown",
   "metadata": {},
   "source": [
    "# Questions 1: \n",
    "## How does price change over time?\n"
   ]
  },
  {
   "cell_type": "code",
   "execution_count": 12,
   "metadata": {},
   "outputs": [],
   "source": [
    "calender_date = calender[['date','available','listing_id']]\n",
    "listings_price = listings[['price']]\n",
    "df_time_query = pd.concat([calender_date, listings_price], axis=1)"
   ]
  },
  {
   "cell_type": "code",
   "execution_count": 13,
   "metadata": {},
   "outputs": [
    {
     "name": "stdout",
     "output_type": "stream",
     "text": [
      "               date available  listing_id  price\n",
      "0        2017-09-05         f    12147973  250.0\n",
      "437528   2017-09-05         f      901914    NaN\n",
      "441480   2017-09-05         t     1425973    NaN\n",
      "441146   2017-09-05         f     9094794    NaN\n",
      "440555   2017-09-05         t    14489201    NaN\n",
      "...             ...       ...         ...    ...\n",
      "416099   2016-09-06         f     8753913    NaN\n",
      "416464   2016-09-06         f     9949819    NaN\n",
      "416829   2016-09-06         f     2495047    NaN\n",
      "417194   2016-09-06         f     9853959    NaN\n",
      "1308889  2016-09-06         f    14504422    NaN\n",
      "\n",
      "[1308890 rows x 4 columns]\n"
     ]
    }
   ],
   "source": [
    "print(df_time_query.sort_values(by=['date'], ascending=False))"
   ]
  },
  {
   "cell_type": "code",
   "execution_count": 14,
   "metadata": {},
   "outputs": [
    {
     "data": {
      "text/html": [
       "<div>\n",
       "<style scoped>\n",
       "    .dataframe tbody tr th:only-of-type {\n",
       "        vertical-align: middle;\n",
       "    }\n",
       "\n",
       "    .dataframe tbody tr th {\n",
       "        vertical-align: top;\n",
       "    }\n",
       "\n",
       "    .dataframe thead th {\n",
       "        text-align: right;\n",
       "    }\n",
       "</style>\n",
       "<table border=\"1\" class=\"dataframe\">\n",
       "  <thead>\n",
       "    <tr style=\"text-align: right;\">\n",
       "      <th></th>\n",
       "      <th>date</th>\n",
       "      <th>available</th>\n",
       "      <th>listing_id</th>\n",
       "      <th>price</th>\n",
       "    </tr>\n",
       "  </thead>\n",
       "  <tbody>\n",
       "    <tr>\n",
       "      <td>0</td>\n",
       "      <td>2017-09-05</td>\n",
       "      <td>f</td>\n",
       "      <td>12147973</td>\n",
       "      <td>250.0</td>\n",
       "    </tr>\n",
       "    <tr>\n",
       "      <td>1</td>\n",
       "      <td>2017-09-04</td>\n",
       "      <td>f</td>\n",
       "      <td>12147973</td>\n",
       "      <td>65.0</td>\n",
       "    </tr>\n",
       "    <tr>\n",
       "      <td>2</td>\n",
       "      <td>2017-09-03</td>\n",
       "      <td>f</td>\n",
       "      <td>12147973</td>\n",
       "      <td>65.0</td>\n",
       "    </tr>\n",
       "    <tr>\n",
       "      <td>3</td>\n",
       "      <td>2017-09-02</td>\n",
       "      <td>f</td>\n",
       "      <td>12147973</td>\n",
       "      <td>75.0</td>\n",
       "    </tr>\n",
       "    <tr>\n",
       "      <td>4</td>\n",
       "      <td>2017-09-01</td>\n",
       "      <td>f</td>\n",
       "      <td>12147973</td>\n",
       "      <td>79.0</td>\n",
       "    </tr>\n",
       "    <tr>\n",
       "      <td>...</td>\n",
       "      <td>...</td>\n",
       "      <td>...</td>\n",
       "      <td>...</td>\n",
       "      <td>...</td>\n",
       "    </tr>\n",
       "    <tr>\n",
       "      <td>3580</td>\n",
       "      <td>2016-11-14</td>\n",
       "      <td>t</td>\n",
       "      <td>849408</td>\n",
       "      <td>69.0</td>\n",
       "    </tr>\n",
       "    <tr>\n",
       "      <td>3581</td>\n",
       "      <td>2016-11-13</td>\n",
       "      <td>t</td>\n",
       "      <td>849408</td>\n",
       "      <td>150.0</td>\n",
       "    </tr>\n",
       "    <tr>\n",
       "      <td>3582</td>\n",
       "      <td>2016-11-12</td>\n",
       "      <td>t</td>\n",
       "      <td>849408</td>\n",
       "      <td>198.0</td>\n",
       "    </tr>\n",
       "    <tr>\n",
       "      <td>3583</td>\n",
       "      <td>2016-11-11</td>\n",
       "      <td>t</td>\n",
       "      <td>849408</td>\n",
       "      <td>65.0</td>\n",
       "    </tr>\n",
       "    <tr>\n",
       "      <td>3584</td>\n",
       "      <td>2016-11-10</td>\n",
       "      <td>t</td>\n",
       "      <td>849408</td>\n",
       "      <td>65.0</td>\n",
       "    </tr>\n",
       "  </tbody>\n",
       "</table>\n",
       "<p>3585 rows × 4 columns</p>\n",
       "</div>"
      ],
      "text/plain": [
       "            date available  listing_id  price\n",
       "0     2017-09-05         f    12147973  250.0\n",
       "1     2017-09-04         f    12147973   65.0\n",
       "2     2017-09-03         f    12147973   65.0\n",
       "3     2017-09-02         f    12147973   75.0\n",
       "4     2017-09-01         f    12147973   79.0\n",
       "...          ...       ...         ...    ...\n",
       "3580  2016-11-14         t      849408   69.0\n",
       "3581  2016-11-13         t      849408  150.0\n",
       "3582  2016-11-12         t      849408  198.0\n",
       "3583  2016-11-11         t      849408   65.0\n",
       "3584  2016-11-10         t      849408   65.0\n",
       "\n",
       "[3585 rows x 4 columns]"
      ]
     },
     "execution_count": 14,
     "metadata": {},
     "output_type": "execute_result"
    }
   ],
   "source": [
    "df_time_query = df_time_query.dropna(subset=['listing_id',\"price\"], axis=0)\n",
    "df_time_query"
   ]
  },
  {
   "cell_type": "code",
   "execution_count": 15,
   "metadata": {},
   "outputs": [],
   "source": [
    "df_time_query['listing_id'] = df_time_query['listing_id'].astype(int)\n",
    "df_time_query['price'] = df_time_query['price'].astype(float)"
   ]
  },
  {
   "cell_type": "code",
   "execution_count": 16,
   "metadata": {},
   "outputs": [
    {
     "data": {
      "text/plain": [
       "date           object\n",
       "available      object\n",
       "listing_id      int32\n",
       "price         float64\n",
       "dtype: object"
      ]
     },
     "execution_count": 16,
     "metadata": {},
     "output_type": "execute_result"
    }
   ],
   "source": [
    "df_time_query.dtypes"
   ]
  },
  {
   "cell_type": "code",
   "execution_count": 17,
   "metadata": {},
   "outputs": [
    {
     "data": {
      "text/plain": [
       "count           3585\n",
       "unique           365\n",
       "top       2016-11-16\n",
       "freq              10\n",
       "Name: date, dtype: object"
      ]
     },
     "execution_count": 17,
     "metadata": {},
     "output_type": "execute_result"
    }
   ],
   "source": [
    "df_time_query.date.describe()"
   ]
  },
  {
   "cell_type": "code",
   "execution_count": 18,
   "metadata": {},
   "outputs": [
    {
     "data": {
      "text/plain": [
       "3585"
      ]
     },
     "execution_count": 18,
     "metadata": {},
     "output_type": "execute_result"
    }
   ],
   "source": [
    "df_time_query.shape[0]"
   ]
  },
  {
   "cell_type": "code",
   "execution_count": 19,
   "metadata": {},
   "outputs": [
    {
     "data": {
      "text/plain": [
       "count    3585.000000\n",
       "mean      173.925802\n",
       "std       148.331321\n",
       "min        10.000000\n",
       "25%        85.000000\n",
       "50%       150.000000\n",
       "75%       220.000000\n",
       "max      4000.000000\n",
       "Name: price, dtype: float64"
      ]
     },
     "execution_count": 19,
     "metadata": {},
     "output_type": "execute_result"
    }
   ],
   "source": [
    "df_time_query['price'].describe()"
   ]
  },
  {
   "cell_type": "code",
   "execution_count": 20,
   "metadata": {},
   "outputs": [
    {
     "data": {
      "text/plain": [
       "date          2276\n",
       "available     2276\n",
       "listing_id    2276\n",
       "price         2276\n",
       "dtype: int64"
      ]
     },
     "execution_count": 20,
     "metadata": {},
     "output_type": "execute_result"
    }
   ],
   "source": [
    "df_time_query[df_time_query.available == \"t\"].count()"
   ]
  },
  {
   "cell_type": "code",
   "execution_count": 21,
   "metadata": {},
   "outputs": [
    {
     "data": {
      "text/plain": [
       "date          1309\n",
       "available     1309\n",
       "listing_id    1309\n",
       "price         1309\n",
       "dtype: int64"
      ]
     },
     "execution_count": 21,
     "metadata": {},
     "output_type": "execute_result"
    }
   ],
   "source": [
    "df_time_query[df_time_query.available == \"f\"].count()"
   ]
  },
  {
   "cell_type": "code",
   "execution_count": 22,
   "metadata": {},
   "outputs": [
    {
     "data": {
      "text/plain": [
       "0.36513249651324964"
      ]
     },
     "execution_count": 22,
     "metadata": {},
     "output_type": "execute_result"
    }
   ],
   "source": [
    "not_available_perc = 1309/3585\n",
    "not_available_perc"
   ]
  },
  {
   "cell_type": "code",
   "execution_count": 23,
   "metadata": {},
   "outputs": [
    {
     "data": {
      "text/html": [
       "<div>\n",
       "<style scoped>\n",
       "    .dataframe tbody tr th:only-of-type {\n",
       "        vertical-align: middle;\n",
       "    }\n",
       "\n",
       "    .dataframe tbody tr th {\n",
       "        vertical-align: top;\n",
       "    }\n",
       "\n",
       "    .dataframe thead th {\n",
       "        text-align: right;\n",
       "    }\n",
       "</style>\n",
       "<table border=\"1\" class=\"dataframe\">\n",
       "  <thead>\n",
       "    <tr style=\"text-align: right;\">\n",
       "      <th></th>\n",
       "      <th>date</th>\n",
       "      <th>available</th>\n",
       "      <th>listing_id</th>\n",
       "      <th>price</th>\n",
       "    </tr>\n",
       "  </thead>\n",
       "  <tbody>\n",
       "    <tr>\n",
       "      <td>2</td>\n",
       "      <td>2017-09-03</td>\n",
       "      <td>f</td>\n",
       "      <td>12147973</td>\n",
       "      <td>65.0</td>\n",
       "    </tr>\n",
       "    <tr>\n",
       "      <td>545</td>\n",
       "      <td>2017-09-03</td>\n",
       "      <td>t</td>\n",
       "      <td>3075044</td>\n",
       "      <td>299.0</td>\n",
       "    </tr>\n",
       "    <tr>\n",
       "      <td>891</td>\n",
       "      <td>2017-09-03</td>\n",
       "      <td>t</td>\n",
       "      <td>6976</td>\n",
       "      <td>83.0</td>\n",
       "    </tr>\n",
       "    <tr>\n",
       "      <td>1280</td>\n",
       "      <td>2017-09-03</td>\n",
       "      <td>f</td>\n",
       "      <td>1436513</td>\n",
       "      <td>695.0</td>\n",
       "    </tr>\n",
       "    <tr>\n",
       "      <td>1672</td>\n",
       "      <td>2017-09-03</td>\n",
       "      <td>t</td>\n",
       "      <td>7651065</td>\n",
       "      <td>275.0</td>\n",
       "    </tr>\n",
       "    <tr>\n",
       "      <td>2013</td>\n",
       "      <td>2017-09-03</td>\n",
       "      <td>f</td>\n",
       "      <td>12386020</td>\n",
       "      <td>200.0</td>\n",
       "    </tr>\n",
       "    <tr>\n",
       "      <td>2192</td>\n",
       "      <td>2017-09-03</td>\n",
       "      <td>t</td>\n",
       "      <td>5706985</td>\n",
       "      <td>600.0</td>\n",
       "    </tr>\n",
       "    <tr>\n",
       "      <td>2555</td>\n",
       "      <td>2017-09-03</td>\n",
       "      <td>t</td>\n",
       "      <td>2843445</td>\n",
       "      <td>48.0</td>\n",
       "    </tr>\n",
       "    <tr>\n",
       "      <td>2922</td>\n",
       "      <td>2017-09-03</td>\n",
       "      <td>t</td>\n",
       "      <td>753446</td>\n",
       "      <td>45.0</td>\n",
       "    </tr>\n",
       "    <tr>\n",
       "      <td>3287</td>\n",
       "      <td>2017-09-03</td>\n",
       "      <td>f</td>\n",
       "      <td>849408</td>\n",
       "      <td>250.0</td>\n",
       "    </tr>\n",
       "  </tbody>\n",
       "</table>\n",
       "</div>"
      ],
      "text/plain": [
       "            date available  listing_id  price\n",
       "2     2017-09-03         f    12147973   65.0\n",
       "545   2017-09-03         t     3075044  299.0\n",
       "891   2017-09-03         t        6976   83.0\n",
       "1280  2017-09-03         f     1436513  695.0\n",
       "1672  2017-09-03         t     7651065  275.0\n",
       "2013  2017-09-03         f    12386020  200.0\n",
       "2192  2017-09-03         t     5706985  600.0\n",
       "2555  2017-09-03         t     2843445   48.0\n",
       "2922  2017-09-03         t      753446   45.0\n",
       "3287  2017-09-03         f      849408  250.0"
      ]
     },
     "execution_count": 23,
     "metadata": {},
     "output_type": "execute_result"
    }
   ],
   "source": [
    "df_time_query[df_time_query.date == \"2017-09-03\"]"
   ]
  },
  {
   "cell_type": "code",
   "execution_count": 24,
   "metadata": {},
   "outputs": [
    {
     "data": {
      "text/html": [
       "<div>\n",
       "<style scoped>\n",
       "    .dataframe tbody tr th:only-of-type {\n",
       "        vertical-align: middle;\n",
       "    }\n",
       "\n",
       "    .dataframe tbody tr th {\n",
       "        vertical-align: top;\n",
       "    }\n",
       "\n",
       "    .dataframe thead th {\n",
       "        text-align: right;\n",
       "    }\n",
       "</style>\n",
       "<table border=\"1\" class=\"dataframe\">\n",
       "  <thead>\n",
       "    <tr style=\"text-align: right;\">\n",
       "      <th></th>\n",
       "      <th>listing_id</th>\n",
       "      <th>price</th>\n",
       "    </tr>\n",
       "  </thead>\n",
       "  <tbody>\n",
       "    <tr>\n",
       "      <td>9</td>\n",
       "      <td>12386020</td>\n",
       "      <td>228.219178</td>\n",
       "    </tr>\n",
       "    <tr>\n",
       "      <td>3</td>\n",
       "      <td>1436513</td>\n",
       "      <td>219.723288</td>\n",
       "    </tr>\n",
       "    <tr>\n",
       "      <td>6</td>\n",
       "      <td>5706985</td>\n",
       "      <td>202.435616</td>\n",
       "    </tr>\n",
       "    <tr>\n",
       "      <td>1</td>\n",
       "      <td>753446</td>\n",
       "      <td>187.169863</td>\n",
       "    </tr>\n",
       "    <tr>\n",
       "      <td>7</td>\n",
       "      <td>7651065</td>\n",
       "      <td>184.673973</td>\n",
       "    </tr>\n",
       "    <tr>\n",
       "      <td>0</td>\n",
       "      <td>6976</td>\n",
       "      <td>182.106849</td>\n",
       "    </tr>\n",
       "    <tr>\n",
       "      <td>5</td>\n",
       "      <td>3075044</td>\n",
       "      <td>179.646575</td>\n",
       "    </tr>\n",
       "    <tr>\n",
       "      <td>8</td>\n",
       "      <td>12147973</td>\n",
       "      <td>131.975342</td>\n",
       "    </tr>\n",
       "    <tr>\n",
       "      <td>2</td>\n",
       "      <td>849408</td>\n",
       "      <td>114.630000</td>\n",
       "    </tr>\n",
       "    <tr>\n",
       "      <td>4</td>\n",
       "      <td>2843445</td>\n",
       "      <td>98.117808</td>\n",
       "    </tr>\n",
       "  </tbody>\n",
       "</table>\n",
       "</div>"
      ],
      "text/plain": [
       "   listing_id       price\n",
       "9    12386020  228.219178\n",
       "3     1436513  219.723288\n",
       "6     5706985  202.435616\n",
       "1      753446  187.169863\n",
       "7     7651065  184.673973\n",
       "0        6976  182.106849\n",
       "5     3075044  179.646575\n",
       "8    12147973  131.975342\n",
       "2      849408  114.630000\n",
       "4     2843445   98.117808"
      ]
     },
     "execution_count": 24,
     "metadata": {},
     "output_type": "execute_result"
    }
   ],
   "source": [
    "df_time_query.groupby(['listing_id'])['price'].mean().reset_index().sort_values(by=['price'], ascending=False)"
   ]
  },
  {
   "cell_type": "code",
   "execution_count": 25,
   "metadata": {},
   "outputs": [
    {
     "data": {
      "text/plain": [
       "date          46\n",
       "available     46\n",
       "listing_id    46\n",
       "price         46\n",
       "dtype: int64"
      ]
     },
     "execution_count": 25,
     "metadata": {},
     "output_type": "execute_result"
    }
   ],
   "source": [
    "df_time_query.loc[df_time_query['listing_id'] == 6976].loc[df_time_query['available'] == \"f\"].count()"
   ]
  },
  {
   "cell_type": "code",
   "execution_count": 26,
   "metadata": {},
   "outputs": [
    {
     "data": {
      "text/plain": [
       "228.21917808219177"
      ]
     },
     "execution_count": 26,
     "metadata": {},
     "output_type": "execute_result"
    }
   ],
   "source": [
    "df_time_query.loc[df_time_query['listing_id'] == 12386020].price.mean()"
   ]
  },
  {
   "cell_type": "code",
   "execution_count": 27,
   "metadata": {
    "scrolled": true
   },
   "outputs": [
    {
     "data": {
      "text/html": [
       "<div>\n",
       "<style scoped>\n",
       "    .dataframe tbody tr th:only-of-type {\n",
       "        vertical-align: middle;\n",
       "    }\n",
       "\n",
       "    .dataframe tbody tr th {\n",
       "        vertical-align: top;\n",
       "    }\n",
       "\n",
       "    .dataframe thead th {\n",
       "        text-align: right;\n",
       "    }\n",
       "</style>\n",
       "<table border=\"1\" class=\"dataframe\">\n",
       "  <thead>\n",
       "    <tr style=\"text-align: right;\">\n",
       "      <th></th>\n",
       "      <th>available</th>\n",
       "      <th>price</th>\n",
       "    </tr>\n",
       "  </thead>\n",
       "  <tbody>\n",
       "    <tr>\n",
       "      <td>0</td>\n",
       "      <td>f</td>\n",
       "      <td>250.0</td>\n",
       "    </tr>\n",
       "    <tr>\n",
       "      <td>1</td>\n",
       "      <td>f</td>\n",
       "      <td>65.0</td>\n",
       "    </tr>\n",
       "    <tr>\n",
       "      <td>2</td>\n",
       "      <td>f</td>\n",
       "      <td>65.0</td>\n",
       "    </tr>\n",
       "    <tr>\n",
       "      <td>3</td>\n",
       "      <td>f</td>\n",
       "      <td>75.0</td>\n",
       "    </tr>\n",
       "    <tr>\n",
       "      <td>4</td>\n",
       "      <td>f</td>\n",
       "      <td>79.0</td>\n",
       "    </tr>\n",
       "    <tr>\n",
       "      <td>...</td>\n",
       "      <td>...</td>\n",
       "      <td>...</td>\n",
       "    </tr>\n",
       "    <tr>\n",
       "      <td>3580</td>\n",
       "      <td>t</td>\n",
       "      <td>69.0</td>\n",
       "    </tr>\n",
       "    <tr>\n",
       "      <td>3581</td>\n",
       "      <td>t</td>\n",
       "      <td>150.0</td>\n",
       "    </tr>\n",
       "    <tr>\n",
       "      <td>3582</td>\n",
       "      <td>t</td>\n",
       "      <td>198.0</td>\n",
       "    </tr>\n",
       "    <tr>\n",
       "      <td>3583</td>\n",
       "      <td>t</td>\n",
       "      <td>65.0</td>\n",
       "    </tr>\n",
       "    <tr>\n",
       "      <td>3584</td>\n",
       "      <td>t</td>\n",
       "      <td>65.0</td>\n",
       "    </tr>\n",
       "  </tbody>\n",
       "</table>\n",
       "<p>3585 rows × 2 columns</p>\n",
       "</div>"
      ],
      "text/plain": [
       "     available  price\n",
       "0            f  250.0\n",
       "1            f   65.0\n",
       "2            f   65.0\n",
       "3            f   75.0\n",
       "4            f   79.0\n",
       "...        ...    ...\n",
       "3580         t   69.0\n",
       "3581         t  150.0\n",
       "3582         t  198.0\n",
       "3583         t   65.0\n",
       "3584         t   65.0\n",
       "\n",
       "[3585 rows x 2 columns]"
      ]
     },
     "execution_count": 27,
     "metadata": {},
     "output_type": "execute_result"
    }
   ],
   "source": [
    "df_time_query[['available','price']]"
   ]
  },
  {
   "cell_type": "code",
   "execution_count": 28,
   "metadata": {},
   "outputs": [
    {
     "data": {
      "text/plain": [
       "<matplotlib.axes._subplots.AxesSubplot at 0x57003fc888>"
      ]
     },
     "execution_count": 28,
     "metadata": {},
     "output_type": "execute_result"
    },
    {
     "data": {
      "image/png": "[encoded data removed]",
      "text/plain": [
       "<Figure size 1080x720 with 1 Axes>"
      ]
     },
     "metadata": {
      "needs_background": "light"
     },
     "output_type": "display_data"
    }
   ],
   "source": [
    "price_timeline = df_time_query.groupby(['date'])['price'].mean()\n",
    "plt.figure(figsize=(15,10))\n",
    "price_timeline.plot(kind='line')"
   ]
  },
  {
   "cell_type": "code",
   "execution_count": 29,
   "metadata": {},
   "outputs": [
    {
     "data": {
      "text/plain": [
       "date\n",
       "2017-07-18    203.7\n",
       "2017-07-19    252.1\n",
       "2017-07-20    171.2\n",
       "2017-07-21    178.3\n",
       "2017-07-22    203.8\n",
       "2017-07-23    195.5\n",
       "2017-07-24    148.8\n",
       "2017-07-25    170.2\n",
       "2017-07-26    161.7\n",
       "2017-07-27    262.7\n",
       "2017-07-28    132.6\n",
       "2017-07-29    142.2\n",
       "2017-07-30    225.2\n",
       "2017-07-31    166.4\n",
       "2017-08-01    189.9\n",
       "2017-08-02    196.5\n",
       "2017-08-03    201.4\n",
       "2017-08-04    155.5\n",
       "2017-08-05    176.6\n",
       "2017-08-06    175.9\n",
       "2017-08-07    173.6\n",
       "2017-08-08    240.2\n",
       "2017-08-09    139.3\n",
       "2017-08-10    140.4\n",
       "2017-08-11    156.4\n",
       "2017-08-12    157.3\n",
       "2017-08-13    121.2\n",
       "2017-08-14    104.9\n",
       "2017-08-15    106.9\n",
       "2017-08-16    139.3\n",
       "2017-08-17    151.2\n",
       "2017-08-18    169.6\n",
       "2017-08-19    110.5\n",
       "2017-08-20    195.2\n",
       "2017-08-21    167.1\n",
       "2017-08-22    280.9\n",
       "2017-08-23    117.2\n",
       "2017-08-24    145.2\n",
       "2017-08-25    139.7\n",
       "2017-08-26    142.4\n",
       "2017-08-27    197.8\n",
       "2017-08-28    167.6\n",
       "2017-08-29    162.6\n",
       "2017-08-30    135.6\n",
       "2017-08-31    252.0\n",
       "2017-09-01    209.2\n",
       "2017-09-02    158.7\n",
       "2017-09-03    256.0\n",
       "2017-09-04    126.0\n",
       "2017-09-05    230.7\n",
       "Name: price, dtype: float64"
      ]
     },
     "execution_count": 29,
     "metadata": {},
     "output_type": "execute_result"
    }
   ],
   "source": [
    "price_timeline.tail(50)"
   ]
  },
  {
   "cell_type": "markdown",
   "metadata": {},
   "source": [
    "<b>The chart above shows spike at the end of January and at the Beginnning of June. This shows that time of year does have an effect in Boston Airbnb pricing.</b>"
   ]
  },
  {
   "cell_type": "code",
   "execution_count": 30,
   "metadata": {},
   "outputs": [
    {
     "data": {
      "text/html": [
       "<div>\n",
       "<style scoped>\n",
       "    .dataframe tbody tr th:only-of-type {\n",
       "        vertical-align: middle;\n",
       "    }\n",
       "\n",
       "    .dataframe tbody tr th {\n",
       "        vertical-align: top;\n",
       "    }\n",
       "\n",
       "    .dataframe thead th {\n",
       "        text-align: right;\n",
       "    }\n",
       "</style>\n",
       "<table border=\"1\" class=\"dataframe\">\n",
       "  <thead>\n",
       "    <tr style=\"text-align: right;\">\n",
       "      <th></th>\n",
       "      <th>date</th>\n",
       "      <th>available</th>\n",
       "      <th>listing_id</th>\n",
       "      <th>price</th>\n",
       "      <th>month</th>\n",
       "      <th>day</th>\n",
       "      <th>year</th>\n",
       "    </tr>\n",
       "  </thead>\n",
       "  <tbody>\n",
       "    <tr>\n",
       "      <td>0</td>\n",
       "      <td>2017-09-05</td>\n",
       "      <td>f</td>\n",
       "      <td>12147973</td>\n",
       "      <td>250.0</td>\n",
       "      <td>9</td>\n",
       "      <td>5</td>\n",
       "      <td>2017</td>\n",
       "    </tr>\n",
       "    <tr>\n",
       "      <td>1</td>\n",
       "      <td>2017-09-04</td>\n",
       "      <td>f</td>\n",
       "      <td>12147973</td>\n",
       "      <td>65.0</td>\n",
       "      <td>9</td>\n",
       "      <td>4</td>\n",
       "      <td>2017</td>\n",
       "    </tr>\n",
       "    <tr>\n",
       "      <td>2</td>\n",
       "      <td>2017-09-03</td>\n",
       "      <td>f</td>\n",
       "      <td>12147973</td>\n",
       "      <td>65.0</td>\n",
       "      <td>9</td>\n",
       "      <td>3</td>\n",
       "      <td>2017</td>\n",
       "    </tr>\n",
       "    <tr>\n",
       "      <td>3</td>\n",
       "      <td>2017-09-02</td>\n",
       "      <td>f</td>\n",
       "      <td>12147973</td>\n",
       "      <td>75.0</td>\n",
       "      <td>9</td>\n",
       "      <td>2</td>\n",
       "      <td>2017</td>\n",
       "    </tr>\n",
       "    <tr>\n",
       "      <td>4</td>\n",
       "      <td>2017-09-01</td>\n",
       "      <td>f</td>\n",
       "      <td>12147973</td>\n",
       "      <td>79.0</td>\n",
       "      <td>9</td>\n",
       "      <td>1</td>\n",
       "      <td>2017</td>\n",
       "    </tr>\n",
       "    <tr>\n",
       "      <td>...</td>\n",
       "      <td>...</td>\n",
       "      <td>...</td>\n",
       "      <td>...</td>\n",
       "      <td>...</td>\n",
       "      <td>...</td>\n",
       "      <td>...</td>\n",
       "      <td>...</td>\n",
       "    </tr>\n",
       "    <tr>\n",
       "      <td>3580</td>\n",
       "      <td>2016-11-14</td>\n",
       "      <td>t</td>\n",
       "      <td>849408</td>\n",
       "      <td>69.0</td>\n",
       "      <td>11</td>\n",
       "      <td>14</td>\n",
       "      <td>2016</td>\n",
       "    </tr>\n",
       "    <tr>\n",
       "      <td>3581</td>\n",
       "      <td>2016-11-13</td>\n",
       "      <td>t</td>\n",
       "      <td>849408</td>\n",
       "      <td>150.0</td>\n",
       "      <td>11</td>\n",
       "      <td>13</td>\n",
       "      <td>2016</td>\n",
       "    </tr>\n",
       "    <tr>\n",
       "      <td>3582</td>\n",
       "      <td>2016-11-12</td>\n",
       "      <td>t</td>\n",
       "      <td>849408</td>\n",
       "      <td>198.0</td>\n",
       "      <td>11</td>\n",
       "      <td>12</td>\n",
       "      <td>2016</td>\n",
       "    </tr>\n",
       "    <tr>\n",
       "      <td>3583</td>\n",
       "      <td>2016-11-11</td>\n",
       "      <td>t</td>\n",
       "      <td>849408</td>\n",
       "      <td>65.0</td>\n",
       "      <td>11</td>\n",
       "      <td>11</td>\n",
       "      <td>2016</td>\n",
       "    </tr>\n",
       "    <tr>\n",
       "      <td>3584</td>\n",
       "      <td>2016-11-10</td>\n",
       "      <td>t</td>\n",
       "      <td>849408</td>\n",
       "      <td>65.0</td>\n",
       "      <td>11</td>\n",
       "      <td>10</td>\n",
       "      <td>2016</td>\n",
       "    </tr>\n",
       "  </tbody>\n",
       "</table>\n",
       "<p>3585 rows × 7 columns</p>\n",
       "</div>"
      ],
      "text/plain": [
       "            date available  listing_id  price  month  day  year\n",
       "0     2017-09-05         f    12147973  250.0      9    5  2017\n",
       "1     2017-09-04         f    12147973   65.0      9    4  2017\n",
       "2     2017-09-03         f    12147973   65.0      9    3  2017\n",
       "3     2017-09-02         f    12147973   75.0      9    2  2017\n",
       "4     2017-09-01         f    12147973   79.0      9    1  2017\n",
       "...          ...       ...         ...    ...    ...  ...   ...\n",
       "3580  2016-11-14         t      849408   69.0     11   14  2016\n",
       "3581  2016-11-13         t      849408  150.0     11   13  2016\n",
       "3582  2016-11-12         t      849408  198.0     11   12  2016\n",
       "3583  2016-11-11         t      849408   65.0     11   11  2016\n",
       "3584  2016-11-10         t      849408   65.0     11   10  2016\n",
       "\n",
       "[3585 rows x 7 columns]"
      ]
     },
     "execution_count": 30,
     "metadata": {},
     "output_type": "execute_result"
    }
   ],
   "source": [
    "df_time_query['month'] = pd.DatetimeIndex(df_time_query['date']).month\n",
    "df_time_query['day'] = pd.DatetimeIndex(df_time_query['date']).day\n",
    "df_time_query['year'] = pd.DatetimeIndex(df_time_query['date']).year\n",
    "df_time_query"
   ]
  },
  {
   "cell_type": "code",
   "execution_count": 31,
   "metadata": {},
   "outputs": [
    {
     "name": "stdout",
     "output_type": "stream",
     "text": [
      "            date available  listing_id  price  month  day  year\n",
      "184   2016-09-20         f    12147973   65.0      9   20  2016\n",
      "700   2016-09-20         t     3075044  109.0      9   20  2016\n",
      "1080  2016-09-20         f        6976   69.0      9   20  2016\n",
      "1445  2016-09-20         f     1436513  200.0      9   20  2016\n",
      "1810  2016-09-20         f     7651065  169.0      9   20  2016\n",
      "2175  2016-09-20         f    12386020  125.0      9   20  2016\n",
      "2540  2016-09-20         t     5706985  100.0      9   20  2016\n",
      "2903  2016-09-20         t     2843445   75.0      9   20  2016\n",
      "3270  2016-09-20         t      753446  100.0      9   20  2016\n"
     ]
    },
    {
     "data": {
      "text/plain": [
       "<matplotlib.axes._subplots.AxesSubplot at 0x57002d0348>"
      ]
     },
     "execution_count": 31,
     "metadata": {},
     "output_type": "execute_result"
    },
    {
     "data": {
      "image/png": "[encoded data removed]",
      "text/plain": [
       "<Figure size 432x288 with 1 Axes>"
      ]
     },
     "metadata": {
      "needs_background": "light"
     },
     "output_type": "display_data"
    }
   ],
   "source": [
    "april = df_time_query[df_time_query['month'] == 9 ] \n",
    "april_2016 = april[april['year'] == 2016 ]\n",
    "day = april_2016[april_2016['day'] == 20]\n",
    "print(day)\n",
    "#print(april_2016)\n",
    "#print(april_2016.price.mean())\n",
    "sns.barplot(data=april_2016, x='day',y='price')"
   ]
  },
  {
   "cell_type": "code",
   "execution_count": 32,
   "metadata": {},
   "outputs": [
    {
     "name": "stdout",
     "output_type": "stream",
     "text": [
      "155.82666666666665\n"
     ]
    },
    {
     "data": {
      "text/plain": [
       "<matplotlib.axes._subplots.AxesSubplot at 0x5701054208>"
      ]
     },
     "execution_count": 32,
     "metadata": {},
     "output_type": "execute_result"
    },
    {
     "data": {
      "image/png": "[encoded data removed]",
      "text/plain": [
       "<Figure size 432x288 with 1 Axes>"
      ]
     },
     "metadata": {
      "needs_background": "light"
     },
     "output_type": "display_data"
    }
   ],
   "source": [
    "april = df_time_query[df_time_query['month'] == 4 ]\n",
    "print(april.price.mean())\n",
    "sns.barplot(data=april, x='day',y='price')"
   ]
  },
  {
   "cell_type": "code",
   "execution_count": 33,
   "metadata": {
    "scrolled": false
   },
   "outputs": [
    {
     "name": "stdout",
     "output_type": "stream",
     "text": [
      "155.38144329896906\n",
      "194\n"
     ]
    },
    {
     "data": {
      "image/png": "[encoded data removed]",
      "text/plain": [
       "<Figure size 432x288 with 1 Axes>"
      ]
     },
     "metadata": {
      "needs_background": "light"
     },
     "output_type": "display_data"
    },
    {
     "name": "stdout",
     "output_type": "stream",
     "text": [
      "156.64150943396226\n",
      "106\n"
     ]
    },
    {
     "data": {
      "image/png": "[encoded data removed]",
      "text/plain": [
       "<Figure size 432x288 with 1 Axes>"
      ]
     },
     "metadata": {
      "needs_background": "light"
     },
     "output_type": "display_data"
    }
   ],
   "source": [
    "april_not_filled = april.loc[april['available']=='f']\n",
    "april_filled = april.loc[april['available'] == 't']\n",
    "sns.barplot(data=april_filled, x='day',y='price')\n",
    "print(april_filled.price.mean())\n",
    "print(april_filled.shape[0])\n",
    "plt.show()\n",
    "sns.barplot(data=april_not_filled, x='day',y='price')\n",
    "print(april_not_filled.price.mean())\n",
    "print(april_not_filled.shape[0])\n",
    "plt.show()"
   ]
  },
  {
   "cell_type": "code",
   "execution_count": 34,
   "metadata": {},
   "outputs": [
    {
     "data": {
      "text/plain": [
       "<matplotlib.axes._subplots.AxesSubplot at 0x57057911c8>"
      ]
     },
     "execution_count": 34,
     "metadata": {},
     "output_type": "execute_result"
    },
    {
     "data": {
      "image/png": "[encoded data removed]",
      "text/plain": [
       "<Figure size 432x288 with 1 Axes>"
      ]
     },
     "metadata": {
      "needs_background": "light"
     },
     "output_type": "display_data"
    }
   ],
   "source": [
    "sns.barplot(data=april_filled, x='day',y=april_filled.price.count())"
   ]
  },
  {
   "cell_type": "code",
   "execution_count": 35,
   "metadata": {},
   "outputs": [
    {
     "data": {
      "text/plain": [
       "7651065    30\n",
       "5706985    30\n",
       "3075044    30\n",
       "6976       30\n",
       "2843445    30\n",
       "753446     30\n",
       "1436513    14\n",
       "Name: listing_id, dtype: int64"
      ]
     },
     "execution_count": 35,
     "metadata": {},
     "output_type": "execute_result"
    }
   ],
   "source": [
    "april_filled.listing_id.value_counts()"
   ]
  },
  {
   "cell_type": "code",
   "execution_count": 36,
   "metadata": {},
   "outputs": [
    {
     "data": {
      "text/plain": [
       "12386020    30\n",
       "12147973    30\n",
       "849408      30\n",
       "1436513     16\n",
       "Name: listing_id, dtype: int64"
      ]
     },
     "execution_count": 36,
     "metadata": {},
     "output_type": "execute_result"
    }
   ],
   "source": [
    "april_not_filled.listing_id.value_counts()"
   ]
  },
  {
   "cell_type": "code",
   "execution_count": 37,
   "metadata": {
    "scrolled": true
   },
   "outputs": [
    {
     "data": {
      "text/plain": [
       "9    229.0\n",
       "Name: price, dtype: float64"
      ]
     },
     "execution_count": 37,
     "metadata": {},
     "output_type": "execute_result"
    }
   ],
   "source": [
    "listings.loc[listings['id'] == 849408].price"
   ]
  },
  {
   "cell_type": "code",
   "execution_count": 38,
   "metadata": {},
   "outputs": [
    {
     "name": "stdout",
     "output_type": "stream",
     "text": [
      "187.9225806451613\n"
     ]
    },
    {
     "data": {
      "text/plain": [
       "<matplotlib.axes._subplots.AxesSubplot at 0x5705e96188>"
      ]
     },
     "execution_count": 38,
     "metadata": {},
     "output_type": "execute_result"
    },
    {
     "data": {
      "image/png": "[encoded data removed]",
      "text/plain": [
       "<Figure size 432x288 with 1 Axes>"
      ]
     },
     "metadata": {
      "needs_background": "light"
     },
     "output_type": "display_data"
    }
   ],
   "source": [
    "dec = df_time_query[df_time_query['month'] == 12 ]\n",
    "print(dec.price.mean())\n",
    "sns.barplot(data=dec, x='day',y='price')"
   ]
  },
  {
   "cell_type": "code",
   "execution_count": 39,
   "metadata": {},
   "outputs": [
    {
     "name": "stdout",
     "output_type": "stream",
     "text": [
      "191.70408163265307\n",
      "98\n"
     ]
    },
    {
     "data": {
      "image/png": "[encoded data removed]",
      "text/plain": [
       "<Figure size 432x288 with 1 Axes>"
      ]
     },
     "metadata": {
      "needs_background": "light"
     },
     "output_type": "display_data"
    },
    {
     "name": "stdout",
     "output_type": "stream",
     "text": [
      "186.1745283018868\n",
      "212\n"
     ]
    },
    {
     "data": {
      "image/png": "[encoded data removed]",
      "text/plain": [
       "<Figure size 432x288 with 1 Axes>"
      ]
     },
     "metadata": {
      "needs_background": "light"
     },
     "output_type": "display_data"
    }
   ],
   "source": [
    "dec_filled = dec.loc[dec['available']=='f']\n",
    "dec_not_filled = dec.loc[dec['available'] == 't']\n",
    "sns.barplot(data=dec_filled, x='day',y='price')\n",
    "print(dec_filled.price.mean())\n",
    "print(dec_filled.shape[0])\n",
    "plt.show()\n",
    "sns.barplot(data=dec_not_filled, x='day',y='price')\n",
    "print(dec_not_filled.price.mean())\n",
    "print(dec_not_filled.shape[0])\n",
    "plt.show()"
   ]
  },
  {
   "cell_type": "code",
   "execution_count": 40,
   "metadata": {},
   "outputs": [
    {
     "data": {
      "text/plain": [
       "12147973    31\n",
       "12386020    27\n",
       "6976        21\n",
       "1436513     19\n",
       "Name: listing_id, dtype: int64"
      ]
     },
     "execution_count": 40,
     "metadata": {},
     "output_type": "execute_result"
    }
   ],
   "source": [
    "dec_filled.listing_id.value_counts()"
   ]
  },
  {
   "cell_type": "code",
   "execution_count": 41,
   "metadata": {},
   "outputs": [
    {
     "data": {
      "text/plain": [
       "7651065     31\n",
       "5706985     31\n",
       "3075044     31\n",
       "2843445     31\n",
       "753446      31\n",
       "849408      31\n",
       "1436513     12\n",
       "6976        10\n",
       "12386020     4\n",
       "Name: listing_id, dtype: int64"
      ]
     },
     "execution_count": 41,
     "metadata": {},
     "output_type": "execute_result"
    }
   ],
   "source": [
    "dec_not_filled.listing_id.value_counts()"
   ]
  },
  {
   "cell_type": "code",
   "execution_count": 42,
   "metadata": {},
   "outputs": [
    {
     "name": "stdout",
     "output_type": "stream",
     "text": [
      "183.5\n"
     ]
    },
    {
     "data": {
      "text/plain": [
       "<matplotlib.axes._subplots.AxesSubplot at 0x5703c06248>"
      ]
     },
     "execution_count": 42,
     "metadata": {},
     "output_type": "execute_result"
    },
    {
     "data": {
      "image/png": "[encoded data removed]",
      "text/plain": [
       "<Figure size 432x288 with 1 Axes>"
      ]
     },
     "metadata": {
      "needs_background": "light"
     },
     "output_type": "display_data"
    }
   ],
   "source": [
    "jun = df_time_query[df_time_query['month'] == 6 ]\n",
    "print(jun.price.mean())\n",
    "sns.barplot(data=jun, x='day',y='price')"
   ]
  },
  {
   "cell_type": "code",
   "execution_count": 43,
   "metadata": {},
   "outputs": [
    {
     "name": "stdout",
     "output_type": "stream",
     "text": [
      "178.3483870967742\n"
     ]
    },
    {
     "data": {
      "text/plain": [
       "<matplotlib.axes._subplots.AxesSubplot at 0x5706150148>"
      ]
     },
     "execution_count": 43,
     "metadata": {},
     "output_type": "execute_result"
    },
    {
     "data": {
      "image/png": "[encoded data removed]",
      "text/plain": [
       "<Figure size 432x288 with 1 Axes>"
      ]
     },
     "metadata": {
      "needs_background": "light"
     },
     "output_type": "display_data"
    }
   ],
   "source": [
    "july = df_time_query[df_time_query['month'] == 7]\n",
    "print(july.price.mean())\n",
    "sns.barplot(data=july, x='day',y='price')"
   ]
  },
  {
   "cell_type": "code",
   "execution_count": 44,
   "metadata": {},
   "outputs": [
    {
     "data": {
      "text/plain": [
       "<matplotlib.axes._subplots.AxesSubplot at 0x570b8b1ec8>"
      ]
     },
     "execution_count": 44,
     "metadata": {},
     "output_type": "execute_result"
    },
    {
     "data": {
      "image/png": "[encoded data removed]",
      "text/plain": [
       "<Figure size 1080x720 with 1 Axes>"
      ]
     },
     "metadata": {
      "needs_background": "light"
     },
     "output_type": "display_data"
    }
   ],
   "source": [
    "price_month = df_time_query.groupby(['month'])['price'].mean()\n",
    "plt.figure(figsize=(15,10))\n",
    "price_month.plot(kind='bar')"
   ]
  },
  {
   "cell_type": "markdown",
   "metadata": {},
   "source": [
    "<b> looks like November and December have the highest average price listings </b>"
   ]
  },
  {
   "cell_type": "code",
   "execution_count": 45,
   "metadata": {},
   "outputs": [
    {
     "data": {
      "text/plain": [
       "<matplotlib.axes._subplots.AxesSubplot at 0x570b95bb48>"
      ]
     },
     "execution_count": 45,
     "metadata": {},
     "output_type": "execute_result"
    },
    {
     "data": {
      "image/png": "[encoded data removed]",
      "text/plain": [
       "<Figure size 1080x720 with 1 Axes>"
      ]
     },
     "metadata": {
      "needs_background": "light"
     },
     "output_type": "display_data"
    }
   ],
   "source": [
    "month_availability = df_time_query.groupby(['month'])['available'].value_counts()\n",
    "plt.figure(figsize=(15,10))\n",
    "month_availability.plot(kind='bar')\n"
   ]
  },
  {
   "cell_type": "markdown",
   "metadata": {},
   "source": [
    "<b>Looks like the prices per unit change overtime. Meaning there is some type of influence on the owner to make this change. I would imagine that holiday's and city wide events spark these changes as vistors increase or decrease as per these events. </b>"
   ]
  },
  {
   "cell_type": "markdown",
   "metadata": {},
   "source": [
    "# Question 2\n",
    "\n",
    "# How does property type influence the dataset?"
   ]
  },
  {
   "cell_type": "code",
   "execution_count": 46,
   "metadata": {},
   "outputs": [
    {
     "data": {
      "text/plain": [
       "Index(['id', 'listing_url', 'scrape_id', 'last_scraped', 'name', 'summary',\n",
       "       'space', 'description', 'experiences_offered', 'neighborhood_overview',\n",
       "       'notes', 'transit', 'access', 'interaction', 'house_rules',\n",
       "       'thumbnail_url', 'medium_url', 'picture_url', 'xl_picture_url',\n",
       "       'host_id', 'host_url', 'host_name', 'host_since', 'host_location',\n",
       "       'host_about', 'host_response_time', 'host_response_rate',\n",
       "       'host_acceptance_rate', 'host_is_superhost', 'host_thumbnail_url',\n",
       "       'host_picture_url', 'host_neighbourhood', 'host_listings_count',\n",
       "       'host_total_listings_count', 'host_verifications',\n",
       "       'host_has_profile_pic', 'host_identity_verified', 'street',\n",
       "       'neighbourhood', 'neighbourhood_cleansed',\n",
       "       'neighbourhood_group_cleansed', 'city', 'state', 'zipcode', 'market',\n",
       "       'smart_location', 'country_code', 'country', 'latitude', 'longitude',\n",
       "       'is_location_exact', 'property_type', 'room_type', 'accommodates',\n",
       "       'bathrooms', 'bedrooms', 'beds', 'bed_type', 'amenities', 'square_feet',\n",
       "       'price', 'weekly_price', 'monthly_price', 'security_deposit',\n",
       "       'cleaning_fee', 'guests_included', 'extra_people', 'minimum_nights',\n",
       "       'maximum_nights', 'calendar_updated', 'has_availability',\n",
       "       'availability_30', 'availability_60', 'availability_90',\n",
       "       'availability_365', 'calendar_last_scraped', 'number_of_reviews',\n",
       "       'first_review', 'last_review', 'review_scores_rating',\n",
       "       'review_scores_accuracy', 'review_scores_cleanliness',\n",
       "       'review_scores_checkin', 'review_scores_communication',\n",
       "       'review_scores_location', 'review_scores_value', 'requires_license',\n",
       "       'license', 'jurisdiction_names', 'instant_bookable',\n",
       "       'cancellation_policy', 'require_guest_profile_picture',\n",
       "       'require_guest_phone_verification', 'calculated_host_listings_count',\n",
       "       'reviews_per_month'],\n",
       "      dtype='object')"
      ]
     },
     "execution_count": 46,
     "metadata": {},
     "output_type": "execute_result"
    }
   ],
   "source": [
    "listings.columns"
   ]
  },
  {
   "cell_type": "code",
   "execution_count": 47,
   "metadata": {},
   "outputs": [
    {
     "data": {
      "text/plain": [
       "2    $395.00\n",
       "Name: weekly_price, dtype: object"
      ]
     },
     "execution_count": 47,
     "metadata": {},
     "output_type": "execute_result"
    }
   ],
   "source": [
    "listings.loc[listings['id'] == 6976].weekly_price"
   ]
  },
  {
   "cell_type": "code",
   "execution_count": 48,
   "metadata": {},
   "outputs": [
    {
     "data": {
      "text/plain": [
       "Apartment          2612\n",
       "House               562\n",
       "Condominium         231\n",
       "Townhouse            54\n",
       "Bed & Breakfast      41\n",
       "Loft                 39\n",
       "Other                17\n",
       "Boat                 12\n",
       "Villa                 6\n",
       "Entire Floor          4\n",
       "Dorm                  2\n",
       "Guesthouse            1\n",
       "Camper/RV             1\n",
       "Name: property_type, dtype: int64"
      ]
     },
     "execution_count": 48,
     "metadata": {},
     "output_type": "execute_result"
    }
   ],
   "source": [
    "listings.property_type.value_counts()"
   ]
  },
  {
   "cell_type": "markdown",
   "metadata": {},
   "source": [
    "Most frequently listed property type is \"Apartment\""
   ]
  },
  {
   "cell_type": "code",
   "execution_count": 49,
   "metadata": {},
   "outputs": [
    {
     "name": "stdout",
     "output_type": "stream",
     "text": [
      "                      price\n",
      "property_type              \n",
      "Guesthouse       289.000000\n",
      "Boat             268.833333\n",
      "Other            229.941176\n",
      "Condominium      190.246753\n",
      "Villa            189.500000\n",
      "Loft             185.410256\n",
      "Apartment        181.966692\n",
      "Townhouse        149.037037\n",
      "House            131.599644\n",
      "Bed & Breakfast  129.365854\n",
      "Entire Floor     122.000000\n",
      "Dorm              62.500000\n",
      "Camper/RV         60.000000\n"
     ]
    },
    {
     "data": {
      "text/plain": [
       "<matplotlib.axes._subplots.AxesSubplot at 0x570ba12dc8>"
      ]
     },
     "execution_count": 49,
     "metadata": {},
     "output_type": "execute_result"
    },
    {
     "data": {
      "image/png": "[encoded data removed]",
      "text/plain": [
       "<Figure size 432x288 with 1 Axes>"
      ]
     },
     "metadata": {
      "needs_background": "light"
     },
     "output_type": "display_data"
    }
   ],
   "source": [
    "# lets see how value types influence price\n",
    "property_type_price = listings.groupby(['property_type'])['price'].mean().reset_index().sort_values(by='price', ascending=False)\n",
    "property_type_price = property_type_price.set_index('property_type')\n",
    "print(property_type_price)\n",
    "property_type_price.plot(kind='bar')"
   ]
  },
  {
   "cell_type": "markdown",
   "metadata": {},
   "source": [
    "Guesthouse on average is listed at the highest prices. "
   ]
  },
  {
   "cell_type": "code",
   "execution_count": 50,
   "metadata": {},
   "outputs": [
    {
     "data": {
      "text/plain": [
       "0      0\n",
       "1     26\n",
       "2     19\n",
       "3      6\n",
       "4     13\n",
       "5      5\n",
       "6     22\n",
       "7     30\n",
       "8     12\n",
       "9     20\n",
       "10    16\n",
       "11     6\n",
       "12     0\n",
       "13     8\n",
       "14    11\n",
       "Name: availability_30, dtype: int64"
      ]
     },
     "execution_count": 50,
     "metadata": {},
     "output_type": "execute_result"
    }
   ],
   "source": [
    "listings.availability_30[:15]"
   ]
  },
  {
   "cell_type": "code",
   "execution_count": 51,
   "metadata": {},
   "outputs": [
    {
     "name": "stdout",
     "output_type": "stream",
     "text": [
      "                 availability_30  booked_perc     price\n",
      "property_type                                          \n",
      "Guesthouse             12.000000     0.600000  3.042105\n",
      "Boat                   22.750000     0.241667  2.829825\n",
      "Other                  12.705882     0.576471  2.420433\n",
      "Condominium             6.926407     0.769120  2.002597\n",
      "Villa                   1.500000     0.950000  1.994737\n",
      "Loft                    6.307692     0.789744  1.951687\n",
      "Apartment               8.584609     0.713846  1.915439\n",
      "Townhouse               8.314815     0.722840  1.568811\n",
      "House                   9.516014     0.682800  1.385259\n",
      "Bed & Breakfast         8.829268     0.705691  1.361746\n",
      "Entire Floor            9.500000     0.683333  1.284211\n",
      "Dorm                    5.500000     0.816667  0.657895\n",
      "Camper/RV               4.000000     0.866667  0.631579\n"
     ]
    },
    {
     "data": {
      "text/plain": [
       "<matplotlib.axes._subplots.AxesSubplot at 0x570bf50248>"
      ]
     },
     "execution_count": 51,
     "metadata": {},
     "output_type": "execute_result"
    },
    {
     "data": {
      "image/png": "[encoded data removed]",
      "text/plain": [
       "<Figure size 1080x720 with 1 Axes>"
      ]
     },
     "metadata": {
      "needs_background": "light"
     },
     "output_type": "display_data"
    }
   ],
   "source": [
    "property_type_availability = listings.groupby(['property_type'])['availability_30'].mean().reset_index()\n",
    "property_type_availability = property_type_availability.set_index('property_type')\n",
    "property_type_availability['booked_perc'] = property_type_availability.apply(lambda x: (1 - (x/30))) \n",
    "property_type_availability['price'] = listings.groupby(['property_type'])['price'].mean()/listings.shape[1]\n",
    "property_type_availability = property_type_availability.sort_values(by='price', ascending=False)\n",
    "print(property_type_availability)                                  \n",
    "                                \n",
    "\n",
    "plt.figure(figsize=(15,10))\n",
    "property_type_availability['price'].plot(kind='bar',color='blue')\n",
    "property_type_availability['booked_perc'].plot(kind='line',color='red')"
   ]
  },
  {
   "cell_type": "code",
   "execution_count": 52,
   "metadata": {},
   "outputs": [
    {
     "data": {
      "text/plain": [
       "<matplotlib.axes._subplots.AxesSubplot at 0x570c7e22c8>"
      ]
     },
     "execution_count": 52,
     "metadata": {},
     "output_type": "execute_result"
    },
    {
     "data": {
      "image/png": "[encoded data removed]",
      "text/plain": [
       "<Figure size 432x288 with 1 Axes>"
      ]
     },
     "metadata": {
      "needs_background": "light"
     },
     "output_type": "display_data"
    }
   ],
   "source": [
    "property_type_availability['availability_30'].plot(kind='bar',color='red')"
   ]
  },
  {
   "cell_type": "markdown",
   "metadata": {},
   "source": [
    "Looks like like the property type influence price, and availablility. Boat's while having the highest average price, also have the hightest avialabily, or in other words are the least booked. While vilas, where the prices are in the 3 quartile range have the highest booking percentage. This can be decribed as a price to commodoties trade off. Where as the fair market value of villa's is reasonable enough for users to pay for and the property meets their standards and quality expectations for travel."
   ]
  },
  {
   "cell_type": "markdown",
   "metadata": {},
   "source": [
    "# Question 3\n",
    "\n",
    "# How does location effect the price"
   ]
  },
  {
   "cell_type": "code",
   "execution_count": 53,
   "metadata": {},
   "outputs": [
    {
     "data": {
      "text/plain": [
       "<matplotlib.axes._subplots.AxesSubplot at 0x577f6adf88>"
      ]
     },
     "execution_count": 53,
     "metadata": {},
     "output_type": "execute_result"
    },
    {
     "data": {
      "image/png": "[encoded data removed]",
      "text/plain": [
       "<Figure size 432x288 with 1 Axes>"
      ]
     },
     "metadata": {
      "needs_background": "light"
     },
     "output_type": "display_data"
    }
   ],
   "source": [
    "sns.distplot(listings['price'])"
   ]
  },
  {
   "cell_type": "code",
   "execution_count": 54,
   "metadata": {},
   "outputs": [],
   "source": [
    "listings = listings[listings['price'].between(listings['price'].quantile(.10), listings['price'].quantile(.99))] # without outliers"
   ]
  },
  {
   "cell_type": "code",
   "execution_count": 55,
   "metadata": {},
   "outputs": [
    {
     "data": {
      "text/plain": [
       "<matplotlib.axes._subplots.AxesSubplot at 0x5703a87dc8>"
      ]
     },
     "execution_count": 55,
     "metadata": {},
     "output_type": "execute_result"
    },
    {
     "data": {
      "image/png": "[encoded data removed]",
      "text/plain": [
       "<Figure size 432x288 with 1 Axes>"
      ]
     },
     "metadata": {
      "needs_background": "light"
     },
     "output_type": "display_data"
    }
   ],
   "source": [
    "sns.distplot(listings['price'])"
   ]
  },
  {
   "cell_type": "code",
   "execution_count": 56,
   "metadata": {},
   "outputs": [
    {
     "data": {
      "text/html": [
       "<div>\n",
       "<style scoped>\n",
       "    .dataframe tbody tr th:only-of-type {\n",
       "        vertical-align: middle;\n",
       "    }\n",
       "\n",
       "    .dataframe tbody tr th {\n",
       "        vertical-align: top;\n",
       "    }\n",
       "\n",
       "    .dataframe thead th {\n",
       "        text-align: right;\n",
       "    }\n",
       "</style>\n",
       "<table border=\"1\" class=\"dataframe\">\n",
       "  <thead>\n",
       "    <tr style=\"text-align: right;\">\n",
       "      <th></th>\n",
       "      <th>city</th>\n",
       "      <th>state</th>\n",
       "      <th>zipcode</th>\n",
       "      <th>market</th>\n",
       "      <th>smart_location</th>\n",
       "      <th>country_code</th>\n",
       "      <th>country</th>\n",
       "      <th>latitude</th>\n",
       "      <th>longitude</th>\n",
       "      <th>is_location_exact</th>\n",
       "      <th>street</th>\n",
       "    </tr>\n",
       "  </thead>\n",
       "  <tbody>\n",
       "    <tr>\n",
       "      <td>0</td>\n",
       "      <td>Boston</td>\n",
       "      <td>MA</td>\n",
       "      <td>02131</td>\n",
       "      <td>Boston</td>\n",
       "      <td>Boston, MA</td>\n",
       "      <td>US</td>\n",
       "      <td>United States</td>\n",
       "      <td>42.282619</td>\n",
       "      <td>-71.133068</td>\n",
       "      <td>t</td>\n",
       "      <td>Birch Street, Boston, MA 02131, United States</td>\n",
       "    </tr>\n",
       "    <tr>\n",
       "      <td>1</td>\n",
       "      <td>Boston</td>\n",
       "      <td>MA</td>\n",
       "      <td>02131</td>\n",
       "      <td>Boston</td>\n",
       "      <td>Boston, MA</td>\n",
       "      <td>US</td>\n",
       "      <td>United States</td>\n",
       "      <td>42.286241</td>\n",
       "      <td>-71.134374</td>\n",
       "      <td>t</td>\n",
       "      <td>Pinehurst Street, Boston, MA 02131, United States</td>\n",
       "    </tr>\n",
       "    <tr>\n",
       "      <td>2</td>\n",
       "      <td>Boston</td>\n",
       "      <td>MA</td>\n",
       "      <td>02131</td>\n",
       "      <td>Boston</td>\n",
       "      <td>Boston, MA</td>\n",
       "      <td>US</td>\n",
       "      <td>United States</td>\n",
       "      <td>42.292438</td>\n",
       "      <td>-71.135765</td>\n",
       "      <td>t</td>\n",
       "      <td>Ardale St., Boston, MA 02131, United States</td>\n",
       "    </tr>\n",
       "    <tr>\n",
       "      <td>3</td>\n",
       "      <td>Boston</td>\n",
       "      <td>MA</td>\n",
       "      <td>NaN</td>\n",
       "      <td>Boston</td>\n",
       "      <td>Boston, MA</td>\n",
       "      <td>US</td>\n",
       "      <td>United States</td>\n",
       "      <td>42.281106</td>\n",
       "      <td>-71.121021</td>\n",
       "      <td>f</td>\n",
       "      <td>Boston, MA, United States</td>\n",
       "    </tr>\n",
       "    <tr>\n",
       "      <td>4</td>\n",
       "      <td>Boston</td>\n",
       "      <td>MA</td>\n",
       "      <td>02131</td>\n",
       "      <td>Boston</td>\n",
       "      <td>Boston, MA</td>\n",
       "      <td>US</td>\n",
       "      <td>United States</td>\n",
       "      <td>42.284512</td>\n",
       "      <td>-71.136258</td>\n",
       "      <td>t</td>\n",
       "      <td>Durnell Avenue, Boston, MA 02131, United States</td>\n",
       "    </tr>\n",
       "    <tr>\n",
       "      <td>...</td>\n",
       "      <td>...</td>\n",
       "      <td>...</td>\n",
       "      <td>...</td>\n",
       "      <td>...</td>\n",
       "      <td>...</td>\n",
       "      <td>...</td>\n",
       "      <td>...</td>\n",
       "      <td>...</td>\n",
       "      <td>...</td>\n",
       "      <td>...</td>\n",
       "      <td>...</td>\n",
       "    </tr>\n",
       "    <tr>\n",
       "      <td>3580</td>\n",
       "      <td>Somerville</td>\n",
       "      <td>MA</td>\n",
       "      <td>02143</td>\n",
       "      <td>Boston</td>\n",
       "      <td>Somerville, MA</td>\n",
       "      <td>US</td>\n",
       "      <td>United States</td>\n",
       "      <td>42.380968</td>\n",
       "      <td>-71.083795</td>\n",
       "      <td>t</td>\n",
       "      <td>Washington Street, Somerville, MA 02143, Unite...</td>\n",
       "    </tr>\n",
       "    <tr>\n",
       "      <td>3581</td>\n",
       "      <td>Brookline</td>\n",
       "      <td>MA</td>\n",
       "      <td>02446</td>\n",
       "      <td>Boston</td>\n",
       "      <td>Brookline, MA</td>\n",
       "      <td>US</td>\n",
       "      <td>United States</td>\n",
       "      <td>42.347503</td>\n",
       "      <td>-71.118336</td>\n",
       "      <td>f</td>\n",
       "      <td>Freeman Street, Brookline, MA 02446, United St...</td>\n",
       "    </tr>\n",
       "    <tr>\n",
       "      <td>3582</td>\n",
       "      <td>Cambridge</td>\n",
       "      <td>MA</td>\n",
       "      <td>02141</td>\n",
       "      <td>Boston</td>\n",
       "      <td>Cambridge, MA</td>\n",
       "      <td>US</td>\n",
       "      <td>United States</td>\n",
       "      <td>42.371771</td>\n",
       "      <td>-71.071300</td>\n",
       "      <td>f</td>\n",
       "      <td>Child Street, Cambridge, MA 02141, United States</td>\n",
       "    </tr>\n",
       "    <tr>\n",
       "      <td>3583</td>\n",
       "      <td>Somerville</td>\n",
       "      <td>MA</td>\n",
       "      <td>02145</td>\n",
       "      <td>Boston</td>\n",
       "      <td>Somerville, MA</td>\n",
       "      <td>US</td>\n",
       "      <td>United States</td>\n",
       "      <td>42.385226</td>\n",
       "      <td>-71.080923</td>\n",
       "      <td>t</td>\n",
       "      <td>George St Somerville, Somerville, MA 02145, Un...</td>\n",
       "    </tr>\n",
       "    <tr>\n",
       "      <td>3584</td>\n",
       "      <td>Somerville</td>\n",
       "      <td>MA</td>\n",
       "      <td>02145</td>\n",
       "      <td>Boston</td>\n",
       "      <td>Somerville, MA</td>\n",
       "      <td>US</td>\n",
       "      <td>United States</td>\n",
       "      <td>42.387888</td>\n",
       "      <td>-71.080654</td>\n",
       "      <td>t</td>\n",
       "      <td>Broadway, Somerville, MA 02145, United States</td>\n",
       "    </tr>\n",
       "  </tbody>\n",
       "</table>\n",
       "<p>3231 rows × 11 columns</p>\n",
       "</div>"
      ],
      "text/plain": [
       "            city state zipcode  market  smart_location country_code  \\\n",
       "0         Boston    MA   02131  Boston      Boston, MA           US   \n",
       "1         Boston    MA   02131  Boston      Boston, MA           US   \n",
       "2         Boston    MA   02131  Boston      Boston, MA           US   \n",
       "3         Boston    MA     NaN  Boston      Boston, MA           US   \n",
       "4         Boston    MA   02131  Boston      Boston, MA           US   \n",
       "...          ...   ...     ...     ...             ...          ...   \n",
       "3580  Somerville    MA   02143  Boston  Somerville, MA           US   \n",
       "3581   Brookline    MA   02446  Boston   Brookline, MA           US   \n",
       "3582   Cambridge    MA   02141  Boston   Cambridge, MA           US   \n",
       "3583  Somerville    MA   02145  Boston  Somerville, MA           US   \n",
       "3584  Somerville    MA   02145  Boston  Somerville, MA           US   \n",
       "\n",
       "            country   latitude  longitude is_location_exact  \\\n",
       "0     United States  42.282619 -71.133068                 t   \n",
       "1     United States  42.286241 -71.134374                 t   \n",
       "2     United States  42.292438 -71.135765                 t   \n",
       "3     United States  42.281106 -71.121021                 f   \n",
       "4     United States  42.284512 -71.136258                 t   \n",
       "...             ...        ...        ...               ...   \n",
       "3580  United States  42.380968 -71.083795                 t   \n",
       "3581  United States  42.347503 -71.118336                 f   \n",
       "3582  United States  42.371771 -71.071300                 f   \n",
       "3583  United States  42.385226 -71.080923                 t   \n",
       "3584  United States  42.387888 -71.080654                 t   \n",
       "\n",
       "                                                 street  \n",
       "0         Birch Street, Boston, MA 02131, United States  \n",
       "1     Pinehurst Street, Boston, MA 02131, United States  \n",
       "2           Ardale St., Boston, MA 02131, United States  \n",
       "3                             Boston, MA, United States  \n",
       "4       Durnell Avenue, Boston, MA 02131, United States  \n",
       "...                                                 ...  \n",
       "3580  Washington Street, Somerville, MA 02143, Unite...  \n",
       "3581  Freeman Street, Brookline, MA 02446, United St...  \n",
       "3582   Child Street, Cambridge, MA 02141, United States  \n",
       "3583  George St Somerville, Somerville, MA 02145, Un...  \n",
       "3584      Broadway, Somerville, MA 02145, United States  \n",
       "\n",
       "[3231 rows x 11 columns]"
      ]
     },
     "execution_count": 56,
     "metadata": {},
     "output_type": "execute_result"
    }
   ],
   "source": [
    "location = listings[['city', 'state', 'zipcode', 'market',\n",
    "       'smart_location', 'country_code', 'country', 'latitude', 'longitude',\n",
    "       'is_location_exact','street']]\n",
    "location"
   ]
  },
  {
   "cell_type": "code",
   "execution_count": 57,
   "metadata": {},
   "outputs": [],
   "source": [
    "list_price = listings.groupby(['zipcode']).price.mean().reset_index().sort_values(by='price', ascending=False)"
   ]
  },
  {
   "cell_type": "code",
   "execution_count": 58,
   "metadata": {},
   "outputs": [
    {
     "data": {
      "text/plain": [
       "<matplotlib.axes._subplots.AxesSubplot at 0x570cb26108>"
      ]
     },
     "execution_count": 58,
     "metadata": {},
     "output_type": "execute_result"
    },
    {
     "data": {
      "image/png": "[encoded data removed]",
      "text/plain": [
       "<Figure size 1080x720 with 1 Axes>"
      ]
     },
     "metadata": {
      "needs_background": "light"
     },
     "output_type": "display_data"
    }
   ],
   "source": [
    "plt.figure(figsize=(15,10))\n",
    "sns.barplot(data=list_price, x='price', y='zipcode')"
   ]
  },
  {
   "cell_type": "markdown",
   "metadata": {},
   "source": [
    "Looks like location effects price."
   ]
  },
  {
   "cell_type": "markdown",
   "metadata": {},
   "source": [
    "# Feature Selection, Predictive modelings"
   ]
  },
  {
   "cell_type": "code",
   "execution_count": 59,
   "metadata": {},
   "outputs": [
    {
     "data": {
      "text/plain": [
       "(3231, 95)"
      ]
     },
     "execution_count": 59,
     "metadata": {},
     "output_type": "execute_result"
    }
   ],
   "source": [
    "listings = listings.dropna(subset=[\"price\"], axis=0)\n",
    "listings.shape"
   ]
  },
  {
   "cell_type": "code",
   "execution_count": 60,
   "metadata": {},
   "outputs": [
    {
     "data": {
      "text/plain": [
       "Index(['id', 'neighbourhood_group_cleansed', 'latitude', 'longitude',\n",
       "       'bathrooms', 'bedrooms', 'beds', 'square_feet', 'price',\n",
       "       'has_availability', 'review_scores_rating', 'review_scores_accuracy',\n",
       "       'review_scores_cleanliness', 'review_scores_checkin',\n",
       "       'review_scores_communication', 'review_scores_location',\n",
       "       'review_scores_value', 'license', 'jurisdiction_names',\n",
       "       'reviews_per_month'],\n",
       "      dtype='object')"
      ]
     },
     "execution_count": 60,
     "metadata": {},
     "output_type": "execute_result"
    }
   ],
   "source": [
    "quant_cols = listings.select_dtypes(include=['int','float'])\n",
    "quant_cols.columns"
   ]
  },
  {
   "cell_type": "code",
   "execution_count": 61,
   "metadata": {},
   "outputs": [
    {
     "data": {
      "text/plain": [
       "(3231, 7)"
      ]
     },
     "execution_count": 61,
     "metadata": {},
     "output_type": "execute_result"
    }
   ],
   "source": [
    "quant_null = quant_cols.isnull().sum()/quant_cols.shape[0]\n",
    "quant = quant_cols.drop(columns=quant_null[quant_null>.2].index.values)\n",
    "quant.shape"
   ]
  },
  {
   "cell_type": "code",
   "execution_count": 62,
   "metadata": {},
   "outputs": [
    {
     "data": {
      "text/html": [
       "<div>\n",
       "<style scoped>\n",
       "    .dataframe tbody tr th:only-of-type {\n",
       "        vertical-align: middle;\n",
       "    }\n",
       "\n",
       "    .dataframe tbody tr th {\n",
       "        vertical-align: top;\n",
       "    }\n",
       "\n",
       "    .dataframe thead th {\n",
       "        text-align: right;\n",
       "    }\n",
       "</style>\n",
       "<table border=\"1\" class=\"dataframe\">\n",
       "  <thead>\n",
       "    <tr style=\"text-align: right;\">\n",
       "      <th></th>\n",
       "      <th>listing_url</th>\n",
       "      <th>last_scraped</th>\n",
       "      <th>name</th>\n",
       "      <th>summary</th>\n",
       "      <th>space</th>\n",
       "      <th>description</th>\n",
       "      <th>experiences_offered</th>\n",
       "      <th>neighborhood_overview</th>\n",
       "      <th>notes</th>\n",
       "      <th>transit</th>\n",
       "      <th>...</th>\n",
       "      <th>extra_people</th>\n",
       "      <th>calendar_updated</th>\n",
       "      <th>calendar_last_scraped</th>\n",
       "      <th>first_review</th>\n",
       "      <th>last_review</th>\n",
       "      <th>requires_license</th>\n",
       "      <th>instant_bookable</th>\n",
       "      <th>cancellation_policy</th>\n",
       "      <th>require_guest_profile_picture</th>\n",
       "      <th>require_guest_phone_verification</th>\n",
       "    </tr>\n",
       "  </thead>\n",
       "  <tbody>\n",
       "    <tr>\n",
       "      <td>0</td>\n",
       "      <td>https://www.airbnb.com/rooms/12147973</td>\n",
       "      <td>2016-09-07</td>\n",
       "      <td>Sunny Bungalow in the City</td>\n",
       "      <td>Cozy, sunny, family home.  Master bedroom high...</td>\n",
       "      <td>The house has an open and cozy feel at the sam...</td>\n",
       "      <td>Cozy, sunny, family home.  Master bedroom high...</td>\n",
       "      <td>none</td>\n",
       "      <td>Roslindale is quiet, convenient and friendly. ...</td>\n",
       "      <td>NaN</td>\n",
       "      <td>The bus stop is 2 blocks away, and frequent. B...</td>\n",
       "      <td>...</td>\n",
       "      <td>$0.00</td>\n",
       "      <td>2 weeks ago</td>\n",
       "      <td>2016-09-06</td>\n",
       "      <td>NaN</td>\n",
       "      <td>NaN</td>\n",
       "      <td>f</td>\n",
       "      <td>f</td>\n",
       "      <td>moderate</td>\n",
       "      <td>f</td>\n",
       "      <td>f</td>\n",
       "    </tr>\n",
       "    <tr>\n",
       "      <td>1</td>\n",
       "      <td>https://www.airbnb.com/rooms/3075044</td>\n",
       "      <td>2016-09-07</td>\n",
       "      <td>Charming room in pet friendly apt</td>\n",
       "      <td>Charming and quiet room in a second floor 1910...</td>\n",
       "      <td>Small but cozy and quite room with a full size...</td>\n",
       "      <td>Charming and quiet room in a second floor 1910...</td>\n",
       "      <td>none</td>\n",
       "      <td>The room is in Roslindale, a diverse and prima...</td>\n",
       "      <td>If you don't have a US cell phone, you can tex...</td>\n",
       "      <td>Plenty of safe street parking. Bus stops a few...</td>\n",
       "      <td>...</td>\n",
       "      <td>$0.00</td>\n",
       "      <td>a week ago</td>\n",
       "      <td>2016-09-06</td>\n",
       "      <td>2014-06-01</td>\n",
       "      <td>2016-08-13</td>\n",
       "      <td>f</td>\n",
       "      <td>t</td>\n",
       "      <td>moderate</td>\n",
       "      <td>f</td>\n",
       "      <td>f</td>\n",
       "    </tr>\n",
       "    <tr>\n",
       "      <td>2</td>\n",
       "      <td>https://www.airbnb.com/rooms/6976</td>\n",
       "      <td>2016-09-07</td>\n",
       "      <td>Mexican Folk Art Haven in Boston</td>\n",
       "      <td>Come stay with a friendly, middle-aged guy in ...</td>\n",
       "      <td>Come stay with a friendly, middle-aged guy in ...</td>\n",
       "      <td>Come stay with a friendly, middle-aged guy in ...</td>\n",
       "      <td>none</td>\n",
       "      <td>The LOCATION: Roslindale is a safe and diverse...</td>\n",
       "      <td>I am in a scenic part of Boston with a couple ...</td>\n",
       "      <td>PUBLIC TRANSPORTATION: From the house, quick p...</td>\n",
       "      <td>...</td>\n",
       "      <td>$20.00</td>\n",
       "      <td>5 days ago</td>\n",
       "      <td>2016-09-06</td>\n",
       "      <td>2009-07-19</td>\n",
       "      <td>2016-08-05</td>\n",
       "      <td>f</td>\n",
       "      <td>f</td>\n",
       "      <td>moderate</td>\n",
       "      <td>t</td>\n",
       "      <td>f</td>\n",
       "    </tr>\n",
       "    <tr>\n",
       "      <td>3</td>\n",
       "      <td>https://www.airbnb.com/rooms/1436513</td>\n",
       "      <td>2016-09-07</td>\n",
       "      <td>Spacious Sunny Bedroom Suite in Historic Home</td>\n",
       "      <td>Come experience the comforts of home away from...</td>\n",
       "      <td>Most places you find in Boston are small howev...</td>\n",
       "      <td>Come experience the comforts of home away from...</td>\n",
       "      <td>none</td>\n",
       "      <td>Roslindale is a lovely little neighborhood loc...</td>\n",
       "      <td>Please be mindful of the property as it is old...</td>\n",
       "      <td>There are buses that stop right in front of th...</td>\n",
       "      <td>...</td>\n",
       "      <td>$25.00</td>\n",
       "      <td>a week ago</td>\n",
       "      <td>2016-09-06</td>\n",
       "      <td>2016-08-28</td>\n",
       "      <td>2016-08-28</td>\n",
       "      <td>f</td>\n",
       "      <td>f</td>\n",
       "      <td>moderate</td>\n",
       "      <td>f</td>\n",
       "      <td>f</td>\n",
       "    </tr>\n",
       "    <tr>\n",
       "      <td>4</td>\n",
       "      <td>https://www.airbnb.com/rooms/7651065</td>\n",
       "      <td>2016-09-07</td>\n",
       "      <td>Come Home to Boston</td>\n",
       "      <td>My comfy, clean and relaxing home is one block...</td>\n",
       "      <td>Clean, attractive, private room, one block fro...</td>\n",
       "      <td>My comfy, clean and relaxing home is one block...</td>\n",
       "      <td>none</td>\n",
       "      <td>I love the proximity to downtown, the neighbor...</td>\n",
       "      <td>I have one roommate who lives on the lower lev...</td>\n",
       "      <td>From Logan Airport  and South Station you have...</td>\n",
       "      <td>...</td>\n",
       "      <td>$0.00</td>\n",
       "      <td>2 weeks ago</td>\n",
       "      <td>2016-09-06</td>\n",
       "      <td>2015-08-18</td>\n",
       "      <td>2016-09-01</td>\n",
       "      <td>f</td>\n",
       "      <td>f</td>\n",
       "      <td>flexible</td>\n",
       "      <td>f</td>\n",
       "      <td>f</td>\n",
       "    </tr>\n",
       "    <tr>\n",
       "      <td>...</td>\n",
       "      <td>...</td>\n",
       "      <td>...</td>\n",
       "      <td>...</td>\n",
       "      <td>...</td>\n",
       "      <td>...</td>\n",
       "      <td>...</td>\n",
       "      <td>...</td>\n",
       "      <td>...</td>\n",
       "      <td>...</td>\n",
       "      <td>...</td>\n",
       "      <td>...</td>\n",
       "      <td>...</td>\n",
       "      <td>...</td>\n",
       "      <td>...</td>\n",
       "      <td>...</td>\n",
       "      <td>...</td>\n",
       "      <td>...</td>\n",
       "      <td>...</td>\n",
       "      <td>...</td>\n",
       "      <td>...</td>\n",
       "      <td>...</td>\n",
       "    </tr>\n",
       "    <tr>\n",
       "      <td>3580</td>\n",
       "      <td>https://www.airbnb.com/rooms/8373729</td>\n",
       "      <td>2016-09-07</td>\n",
       "      <td>Big cozy room near T</td>\n",
       "      <td>5 min walking to Orange Line subway with 2 sto...</td>\n",
       "      <td>NaN</td>\n",
       "      <td>5 min walking to Orange Line subway with 2 sto...</td>\n",
       "      <td>none</td>\n",
       "      <td>NaN</td>\n",
       "      <td>NaN</td>\n",
       "      <td>NaN</td>\n",
       "      <td>...</td>\n",
       "      <td>$24.00</td>\n",
       "      <td>5 days ago</td>\n",
       "      <td>2016-09-06</td>\n",
       "      <td>2015-09-18</td>\n",
       "      <td>2016-08-27</td>\n",
       "      <td>f</td>\n",
       "      <td>t</td>\n",
       "      <td>strict</td>\n",
       "      <td>f</td>\n",
       "      <td>f</td>\n",
       "    </tr>\n",
       "    <tr>\n",
       "      <td>3581</td>\n",
       "      <td>https://www.airbnb.com/rooms/14844274</td>\n",
       "      <td>2016-09-07</td>\n",
       "      <td>BU Apartment DexterPark Bright room</td>\n",
       "      <td>Most popular apartment in BU, best located in ...</td>\n",
       "      <td>Best location in BU</td>\n",
       "      <td>Most popular apartment in BU, best located in ...</td>\n",
       "      <td>none</td>\n",
       "      <td>NaN</td>\n",
       "      <td>NaN</td>\n",
       "      <td>There is green line, BU shuttle in front of th...</td>\n",
       "      <td>...</td>\n",
       "      <td>$0.00</td>\n",
       "      <td>never</td>\n",
       "      <td>2016-09-06</td>\n",
       "      <td>NaN</td>\n",
       "      <td>NaN</td>\n",
       "      <td>f</td>\n",
       "      <td>f</td>\n",
       "      <td>strict</td>\n",
       "      <td>f</td>\n",
       "      <td>f</td>\n",
       "    </tr>\n",
       "    <tr>\n",
       "      <td>3582</td>\n",
       "      <td>https://www.airbnb.com/rooms/14585486</td>\n",
       "      <td>2016-09-07</td>\n",
       "      <td>Gorgeous funky apartment</td>\n",
       "      <td>Funky little apartment close to public transpo...</td>\n",
       "      <td>Modern and relaxed space with many facilities ...</td>\n",
       "      <td>Funky little apartment close to public transpo...</td>\n",
       "      <td>none</td>\n",
       "      <td>Cambridge is a short walk into Boston, and set...</td>\n",
       "      <td>Depending on when you arrive, I can be here to...</td>\n",
       "      <td>Public transport is 5 minuts away, but walking...</td>\n",
       "      <td>...</td>\n",
       "      <td>$0.00</td>\n",
       "      <td>3 weeks ago</td>\n",
       "      <td>2016-09-06</td>\n",
       "      <td>NaN</td>\n",
       "      <td>NaN</td>\n",
       "      <td>f</td>\n",
       "      <td>f</td>\n",
       "      <td>flexible</td>\n",
       "      <td>f</td>\n",
       "      <td>f</td>\n",
       "    </tr>\n",
       "    <tr>\n",
       "      <td>3583</td>\n",
       "      <td>https://www.airbnb.com/rooms/14603878</td>\n",
       "      <td>2016-09-07</td>\n",
       "      <td>Great Location; Train and Restaurants</td>\n",
       "      <td>My place is close to Taco Loco Mexican Grill, ...</td>\n",
       "      <td>NaN</td>\n",
       "      <td>My place is close to Taco Loco Mexican Grill, ...</td>\n",
       "      <td>none</td>\n",
       "      <td>NaN</td>\n",
       "      <td>NaN</td>\n",
       "      <td>NaN</td>\n",
       "      <td>...</td>\n",
       "      <td>$30.00</td>\n",
       "      <td>today</td>\n",
       "      <td>2016-09-06</td>\n",
       "      <td>2016-08-27</td>\n",
       "      <td>2016-09-04</td>\n",
       "      <td>f</td>\n",
       "      <td>f</td>\n",
       "      <td>strict</td>\n",
       "      <td>f</td>\n",
       "      <td>f</td>\n",
       "    </tr>\n",
       "    <tr>\n",
       "      <td>3584</td>\n",
       "      <td>https://www.airbnb.com/rooms/14504422</td>\n",
       "      <td>2016-09-07</td>\n",
       "      <td>(K1) Private Room near Harvard/MIT</td>\n",
       "      <td>My place is close to My home is a warm and fri...</td>\n",
       "      <td>To ensure a smooth check in: 1. You MUST have ...</td>\n",
       "      <td>My place is close to My home is a warm and fri...</td>\n",
       "      <td>none</td>\n",
       "      <td>NaN</td>\n",
       "      <td>NaN</td>\n",
       "      <td>NaN</td>\n",
       "      <td>...</td>\n",
       "      <td>$30.00</td>\n",
       "      <td>today</td>\n",
       "      <td>2016-09-06</td>\n",
       "      <td>NaN</td>\n",
       "      <td>NaN</td>\n",
       "      <td>f</td>\n",
       "      <td>t</td>\n",
       "      <td>flexible</td>\n",
       "      <td>f</td>\n",
       "      <td>f</td>\n",
       "    </tr>\n",
       "  </tbody>\n",
       "</table>\n",
       "<p>3231 rows × 61 columns</p>\n",
       "</div>"
      ],
      "text/plain": [
       "                                listing_url last_scraped  \\\n",
       "0     https://www.airbnb.com/rooms/12147973   2016-09-07   \n",
       "1      https://www.airbnb.com/rooms/3075044   2016-09-07   \n",
       "2         https://www.airbnb.com/rooms/6976   2016-09-07   \n",
       "3      https://www.airbnb.com/rooms/1436513   2016-09-07   \n",
       "4      https://www.airbnb.com/rooms/7651065   2016-09-07   \n",
       "...                                     ...          ...   \n",
       "3580   https://www.airbnb.com/rooms/8373729   2016-09-07   \n",
       "3581  https://www.airbnb.com/rooms/14844274   2016-09-07   \n",
       "3582  https://www.airbnb.com/rooms/14585486   2016-09-07   \n",
       "3583  https://www.airbnb.com/rooms/14603878   2016-09-07   \n",
       "3584  https://www.airbnb.com/rooms/14504422   2016-09-07   \n",
       "\n",
       "                                               name  \\\n",
       "0                        Sunny Bungalow in the City   \n",
       "1                 Charming room in pet friendly apt   \n",
       "2                  Mexican Folk Art Haven in Boston   \n",
       "3     Spacious Sunny Bedroom Suite in Historic Home   \n",
       "4                               Come Home to Boston   \n",
       "...                                             ...   \n",
       "3580                           Big cozy room near T   \n",
       "3581            BU Apartment DexterPark Bright room   \n",
       "3582                       Gorgeous funky apartment   \n",
       "3583          Great Location; Train and Restaurants   \n",
       "3584             (K1) Private Room near Harvard/MIT   \n",
       "\n",
       "                                                summary  \\\n",
       "0     Cozy, sunny, family home.  Master bedroom high...   \n",
       "1     Charming and quiet room in a second floor 1910...   \n",
       "2     Come stay with a friendly, middle-aged guy in ...   \n",
       "3     Come experience the comforts of home away from...   \n",
       "4     My comfy, clean and relaxing home is one block...   \n",
       "...                                                 ...   \n",
       "3580  5 min walking to Orange Line subway with 2 sto...   \n",
       "3581  Most popular apartment in BU, best located in ...   \n",
       "3582  Funky little apartment close to public transpo...   \n",
       "3583  My place is close to Taco Loco Mexican Grill, ...   \n",
       "3584  My place is close to My home is a warm and fri...   \n",
       "\n",
       "                                                  space  \\\n",
       "0     The house has an open and cozy feel at the sam...   \n",
       "1     Small but cozy and quite room with a full size...   \n",
       "2     Come stay with a friendly, middle-aged guy in ...   \n",
       "3     Most places you find in Boston are small howev...   \n",
       "4     Clean, attractive, private room, one block fro...   \n",
       "...                                                 ...   \n",
       "3580                                                NaN   \n",
       "3581                                Best location in BU   \n",
       "3582  Modern and relaxed space with many facilities ...   \n",
       "3583                                                NaN   \n",
       "3584  To ensure a smooth check in: 1. You MUST have ...   \n",
       "\n",
       "                                            description experiences_offered  \\\n",
       "0     Cozy, sunny, family home.  Master bedroom high...                none   \n",
       "1     Charming and quiet room in a second floor 1910...                none   \n",
       "2     Come stay with a friendly, middle-aged guy in ...                none   \n",
       "3     Come experience the comforts of home away from...                none   \n",
       "4     My comfy, clean and relaxing home is one block...                none   \n",
       "...                                                 ...                 ...   \n",
       "3580  5 min walking to Orange Line subway with 2 sto...                none   \n",
       "3581  Most popular apartment in BU, best located in ...                none   \n",
       "3582  Funky little apartment close to public transpo...                none   \n",
       "3583  My place is close to Taco Loco Mexican Grill, ...                none   \n",
       "3584  My place is close to My home is a warm and fri...                none   \n",
       "\n",
       "                                  neighborhood_overview  \\\n",
       "0     Roslindale is quiet, convenient and friendly. ...   \n",
       "1     The room is in Roslindale, a diverse and prima...   \n",
       "2     The LOCATION: Roslindale is a safe and diverse...   \n",
       "3     Roslindale is a lovely little neighborhood loc...   \n",
       "4     I love the proximity to downtown, the neighbor...   \n",
       "...                                                 ...   \n",
       "3580                                                NaN   \n",
       "3581                                                NaN   \n",
       "3582  Cambridge is a short walk into Boston, and set...   \n",
       "3583                                                NaN   \n",
       "3584                                                NaN   \n",
       "\n",
       "                                                  notes  \\\n",
       "0                                                   NaN   \n",
       "1     If you don't have a US cell phone, you can tex...   \n",
       "2     I am in a scenic part of Boston with a couple ...   \n",
       "3     Please be mindful of the property as it is old...   \n",
       "4     I have one roommate who lives on the lower lev...   \n",
       "...                                                 ...   \n",
       "3580                                                NaN   \n",
       "3581                                                NaN   \n",
       "3582  Depending on when you arrive, I can be here to...   \n",
       "3583                                                NaN   \n",
       "3584                                                NaN   \n",
       "\n",
       "                                                transit  ... extra_people  \\\n",
       "0     The bus stop is 2 blocks away, and frequent. B...  ...        $0.00   \n",
       "1     Plenty of safe street parking. Bus stops a few...  ...        $0.00   \n",
       "2     PUBLIC TRANSPORTATION: From the house, quick p...  ...       $20.00   \n",
       "3     There are buses that stop right in front of th...  ...       $25.00   \n",
       "4     From Logan Airport  and South Station you have...  ...        $0.00   \n",
       "...                                                 ...  ...          ...   \n",
       "3580                                                NaN  ...       $24.00   \n",
       "3581  There is green line, BU shuttle in front of th...  ...        $0.00   \n",
       "3582  Public transport is 5 minuts away, but walking...  ...        $0.00   \n",
       "3583                                                NaN  ...       $30.00   \n",
       "3584                                                NaN  ...       $30.00   \n",
       "\n",
       "     calendar_updated calendar_last_scraped first_review last_review  \\\n",
       "0         2 weeks ago            2016-09-06          NaN         NaN   \n",
       "1          a week ago            2016-09-06   2014-06-01  2016-08-13   \n",
       "2          5 days ago            2016-09-06   2009-07-19  2016-08-05   \n",
       "3          a week ago            2016-09-06   2016-08-28  2016-08-28   \n",
       "4         2 weeks ago            2016-09-06   2015-08-18  2016-09-01   \n",
       "...               ...                   ...          ...         ...   \n",
       "3580       5 days ago            2016-09-06   2015-09-18  2016-08-27   \n",
       "3581            never            2016-09-06          NaN         NaN   \n",
       "3582      3 weeks ago            2016-09-06          NaN         NaN   \n",
       "3583            today            2016-09-06   2016-08-27  2016-09-04   \n",
       "3584            today            2016-09-06          NaN         NaN   \n",
       "\n",
       "     requires_license instant_bookable cancellation_policy  \\\n",
       "0                   f                f            moderate   \n",
       "1                   f                t            moderate   \n",
       "2                   f                f            moderate   \n",
       "3                   f                f            moderate   \n",
       "4                   f                f            flexible   \n",
       "...               ...              ...                 ...   \n",
       "3580                f                t              strict   \n",
       "3581                f                f              strict   \n",
       "3582                f                f            flexible   \n",
       "3583                f                f              strict   \n",
       "3584                f                t            flexible   \n",
       "\n",
       "     require_guest_profile_picture require_guest_phone_verification  \n",
       "0                                f                                f  \n",
       "1                                f                                f  \n",
       "2                                t                                f  \n",
       "3                                f                                f  \n",
       "4                                f                                f  \n",
       "...                            ...                              ...  \n",
       "3580                             f                                f  \n",
       "3581                             f                                f  \n",
       "3582                             f                                f  \n",
       "3583                             f                                f  \n",
       "3584                             f                                f  \n",
       "\n",
       "[3231 rows x 61 columns]"
      ]
     },
     "execution_count": 62,
     "metadata": {},
     "output_type": "execute_result"
    }
   ],
   "source": [
    "qual_cols = listings.select_dtypes(include=['object'])\n",
    "qual_cols.shape\n",
    "qual_cols"
   ]
  },
  {
   "cell_type": "code",
   "execution_count": 63,
   "metadata": {},
   "outputs": [
    {
     "data": {
      "text/plain": [
       "(3231, 47)"
      ]
     },
     "execution_count": 63,
     "metadata": {},
     "output_type": "execute_result"
    }
   ],
   "source": [
    "qual_null = qual_cols.isnull().sum()/qual_cols.shape[0]\n",
    "qual = qual_cols.drop(columns=qual_null[qual_null>.2].index.values)\n",
    "qual.shape"
   ]
  },
  {
   "cell_type": "code",
   "execution_count": 64,
   "metadata": {},
   "outputs": [
    {
     "data": {
      "text/plain": [
       "<matplotlib.axes._subplots.AxesSubplot at 0x570053b788>"
      ]
     },
     "execution_count": 64,
     "metadata": {},
     "output_type": "execute_result"
    },
    {
     "data": {
      "image/png": "[encoded data removed]",
      "text/plain": [
       "<Figure size 432x288 with 2 Axes>"
      ]
     },
     "metadata": {
      "needs_background": "light"
     },
     "output_type": "display_data"
    }
   ],
   "source": [
    "sns.heatmap(quant_cols.corr())"
   ]
  },
  {
   "cell_type": "code",
   "execution_count": 65,
   "metadata": {},
   "outputs": [
    {
     "data": {
      "text/plain": [
       "<matplotlib.axes._subplots.AxesSubplot at 0x570cf31848>"
      ]
     },
     "execution_count": 65,
     "metadata": {},
     "output_type": "execute_result"
    },
    {
     "data": {
      "image/png": "[encoded data removed]",
      "text/plain": [
       "<Figure size 432x288 with 2 Axes>"
      ]
     },
     "metadata": {
      "needs_background": "light"
     },
     "output_type": "display_data"
    }
   ],
   "source": [
    "sns.heatmap(quant.corr())"
   ]
  },
  {
   "cell_type": "code",
   "execution_count": 66,
   "metadata": {},
   "outputs": [
    {
     "data": {
      "text/html": [
       "<div>\n",
       "<style scoped>\n",
       "    .dataframe tbody tr th:only-of-type {\n",
       "        vertical-align: middle;\n",
       "    }\n",
       "\n",
       "    .dataframe tbody tr th {\n",
       "        vertical-align: top;\n",
       "    }\n",
       "\n",
       "    .dataframe thead th {\n",
       "        text-align: right;\n",
       "    }\n",
       "</style>\n",
       "<table border=\"1\" class=\"dataframe\">\n",
       "  <thead>\n",
       "    <tr style=\"text-align: right;\">\n",
       "      <th></th>\n",
       "      <th>id</th>\n",
       "      <th>listing_url</th>\n",
       "      <th>scrape_id</th>\n",
       "      <th>last_scraped</th>\n",
       "      <th>name</th>\n",
       "      <th>summary</th>\n",
       "      <th>space</th>\n",
       "      <th>description</th>\n",
       "      <th>experiences_offered</th>\n",
       "      <th>neighborhood_overview</th>\n",
       "      <th>...</th>\n",
       "      <th>review_scores_value</th>\n",
       "      <th>requires_license</th>\n",
       "      <th>license</th>\n",
       "      <th>jurisdiction_names</th>\n",
       "      <th>instant_bookable</th>\n",
       "      <th>cancellation_policy</th>\n",
       "      <th>require_guest_profile_picture</th>\n",
       "      <th>require_guest_phone_verification</th>\n",
       "      <th>calculated_host_listings_count</th>\n",
       "      <th>reviews_per_month</th>\n",
       "    </tr>\n",
       "  </thead>\n",
       "  <tbody>\n",
       "    <tr>\n",
       "      <td>0</td>\n",
       "      <td>12147973</td>\n",
       "      <td>https://www.airbnb.com/rooms/12147973</td>\n",
       "      <td>20160906204935</td>\n",
       "      <td>2016-09-07</td>\n",
       "      <td>Sunny Bungalow in the City</td>\n",
       "      <td>Cozy, sunny, family home.  Master bedroom high...</td>\n",
       "      <td>The house has an open and cozy feel at the sam...</td>\n",
       "      <td>Cozy, sunny, family home.  Master bedroom high...</td>\n",
       "      <td>none</td>\n",
       "      <td>Roslindale is quiet, convenient and friendly. ...</td>\n",
       "      <td>...</td>\n",
       "      <td>NaN</td>\n",
       "      <td>f</td>\n",
       "      <td>NaN</td>\n",
       "      <td>NaN</td>\n",
       "      <td>f</td>\n",
       "      <td>moderate</td>\n",
       "      <td>f</td>\n",
       "      <td>f</td>\n",
       "      <td>1</td>\n",
       "      <td>NaN</td>\n",
       "    </tr>\n",
       "    <tr>\n",
       "      <td>1</td>\n",
       "      <td>3075044</td>\n",
       "      <td>https://www.airbnb.com/rooms/3075044</td>\n",
       "      <td>20160906204935</td>\n",
       "      <td>2016-09-07</td>\n",
       "      <td>Charming room in pet friendly apt</td>\n",
       "      <td>Charming and quiet room in a second floor 1910...</td>\n",
       "      <td>Small but cozy and quite room with a full size...</td>\n",
       "      <td>Charming and quiet room in a second floor 1910...</td>\n",
       "      <td>none</td>\n",
       "      <td>The room is in Roslindale, a diverse and prima...</td>\n",
       "      <td>...</td>\n",
       "      <td>9.0</td>\n",
       "      <td>f</td>\n",
       "      <td>NaN</td>\n",
       "      <td>NaN</td>\n",
       "      <td>t</td>\n",
       "      <td>moderate</td>\n",
       "      <td>f</td>\n",
       "      <td>f</td>\n",
       "      <td>1</td>\n",
       "      <td>1.30</td>\n",
       "    </tr>\n",
       "    <tr>\n",
       "      <td>2</td>\n",
       "      <td>6976</td>\n",
       "      <td>https://www.airbnb.com/rooms/6976</td>\n",
       "      <td>20160906204935</td>\n",
       "      <td>2016-09-07</td>\n",
       "      <td>Mexican Folk Art Haven in Boston</td>\n",
       "      <td>Come stay with a friendly, middle-aged guy in ...</td>\n",
       "      <td>Come stay with a friendly, middle-aged guy in ...</td>\n",
       "      <td>Come stay with a friendly, middle-aged guy in ...</td>\n",
       "      <td>none</td>\n",
       "      <td>The LOCATION: Roslindale is a safe and diverse...</td>\n",
       "      <td>...</td>\n",
       "      <td>10.0</td>\n",
       "      <td>f</td>\n",
       "      <td>NaN</td>\n",
       "      <td>NaN</td>\n",
       "      <td>f</td>\n",
       "      <td>moderate</td>\n",
       "      <td>t</td>\n",
       "      <td>f</td>\n",
       "      <td>1</td>\n",
       "      <td>0.47</td>\n",
       "    </tr>\n",
       "    <tr>\n",
       "      <td>3</td>\n",
       "      <td>1436513</td>\n",
       "      <td>https://www.airbnb.com/rooms/1436513</td>\n",
       "      <td>20160906204935</td>\n",
       "      <td>2016-09-07</td>\n",
       "      <td>Spacious Sunny Bedroom Suite in Historic Home</td>\n",
       "      <td>Come experience the comforts of home away from...</td>\n",
       "      <td>Most places you find in Boston are small howev...</td>\n",
       "      <td>Come experience the comforts of home away from...</td>\n",
       "      <td>none</td>\n",
       "      <td>Roslindale is a lovely little neighborhood loc...</td>\n",
       "      <td>...</td>\n",
       "      <td>10.0</td>\n",
       "      <td>f</td>\n",
       "      <td>NaN</td>\n",
       "      <td>NaN</td>\n",
       "      <td>f</td>\n",
       "      <td>moderate</td>\n",
       "      <td>f</td>\n",
       "      <td>f</td>\n",
       "      <td>1</td>\n",
       "      <td>1.00</td>\n",
       "    </tr>\n",
       "    <tr>\n",
       "      <td>4</td>\n",
       "      <td>7651065</td>\n",
       "      <td>https://www.airbnb.com/rooms/7651065</td>\n",
       "      <td>20160906204935</td>\n",
       "      <td>2016-09-07</td>\n",
       "      <td>Come Home to Boston</td>\n",
       "      <td>My comfy, clean and relaxing home is one block...</td>\n",
       "      <td>Clean, attractive, private room, one block fro...</td>\n",
       "      <td>My comfy, clean and relaxing home is one block...</td>\n",
       "      <td>none</td>\n",
       "      <td>I love the proximity to downtown, the neighbor...</td>\n",
       "      <td>...</td>\n",
       "      <td>10.0</td>\n",
       "      <td>f</td>\n",
       "      <td>NaN</td>\n",
       "      <td>NaN</td>\n",
       "      <td>f</td>\n",
       "      <td>flexible</td>\n",
       "      <td>f</td>\n",
       "      <td>f</td>\n",
       "      <td>1</td>\n",
       "      <td>2.25</td>\n",
       "    </tr>\n",
       "    <tr>\n",
       "      <td>...</td>\n",
       "      <td>...</td>\n",
       "      <td>...</td>\n",
       "      <td>...</td>\n",
       "      <td>...</td>\n",
       "      <td>...</td>\n",
       "      <td>...</td>\n",
       "      <td>...</td>\n",
       "      <td>...</td>\n",
       "      <td>...</td>\n",
       "      <td>...</td>\n",
       "      <td>...</td>\n",
       "      <td>...</td>\n",
       "      <td>...</td>\n",
       "      <td>...</td>\n",
       "      <td>...</td>\n",
       "      <td>...</td>\n",
       "      <td>...</td>\n",
       "      <td>...</td>\n",
       "      <td>...</td>\n",
       "      <td>...</td>\n",
       "      <td>...</td>\n",
       "    </tr>\n",
       "    <tr>\n",
       "      <td>3580</td>\n",
       "      <td>8373729</td>\n",
       "      <td>https://www.airbnb.com/rooms/8373729</td>\n",
       "      <td>20160906204935</td>\n",
       "      <td>2016-09-07</td>\n",
       "      <td>Big cozy room near T</td>\n",
       "      <td>5 min walking to Orange Line subway with 2 sto...</td>\n",
       "      <td>NaN</td>\n",
       "      <td>5 min walking to Orange Line subway with 2 sto...</td>\n",
       "      <td>none</td>\n",
       "      <td>NaN</td>\n",
       "      <td>...</td>\n",
       "      <td>9.0</td>\n",
       "      <td>f</td>\n",
       "      <td>NaN</td>\n",
       "      <td>NaN</td>\n",
       "      <td>t</td>\n",
       "      <td>strict</td>\n",
       "      <td>f</td>\n",
       "      <td>f</td>\n",
       "      <td>8</td>\n",
       "      <td>0.34</td>\n",
       "    </tr>\n",
       "    <tr>\n",
       "      <td>3581</td>\n",
       "      <td>14844274</td>\n",
       "      <td>https://www.airbnb.com/rooms/14844274</td>\n",
       "      <td>20160906204935</td>\n",
       "      <td>2016-09-07</td>\n",
       "      <td>BU Apartment DexterPark Bright room</td>\n",
       "      <td>Most popular apartment in BU, best located in ...</td>\n",
       "      <td>Best location in BU</td>\n",
       "      <td>Most popular apartment in BU, best located in ...</td>\n",
       "      <td>none</td>\n",
       "      <td>NaN</td>\n",
       "      <td>...</td>\n",
       "      <td>NaN</td>\n",
       "      <td>f</td>\n",
       "      <td>NaN</td>\n",
       "      <td>NaN</td>\n",
       "      <td>f</td>\n",
       "      <td>strict</td>\n",
       "      <td>f</td>\n",
       "      <td>f</td>\n",
       "      <td>2</td>\n",
       "      <td>NaN</td>\n",
       "    </tr>\n",
       "    <tr>\n",
       "      <td>3582</td>\n",
       "      <td>14585486</td>\n",
       "      <td>https://www.airbnb.com/rooms/14585486</td>\n",
       "      <td>20160906204935</td>\n",
       "      <td>2016-09-07</td>\n",
       "      <td>Gorgeous funky apartment</td>\n",
       "      <td>Funky little apartment close to public transpo...</td>\n",
       "      <td>Modern and relaxed space with many facilities ...</td>\n",
       "      <td>Funky little apartment close to public transpo...</td>\n",
       "      <td>none</td>\n",
       "      <td>Cambridge is a short walk into Boston, and set...</td>\n",
       "      <td>...</td>\n",
       "      <td>NaN</td>\n",
       "      <td>f</td>\n",
       "      <td>NaN</td>\n",
       "      <td>NaN</td>\n",
       "      <td>f</td>\n",
       "      <td>flexible</td>\n",
       "      <td>f</td>\n",
       "      <td>f</td>\n",
       "      <td>1</td>\n",
       "      <td>NaN</td>\n",
       "    </tr>\n",
       "    <tr>\n",
       "      <td>3583</td>\n",
       "      <td>14603878</td>\n",
       "      <td>https://www.airbnb.com/rooms/14603878</td>\n",
       "      <td>20160906204935</td>\n",
       "      <td>2016-09-07</td>\n",
       "      <td>Great Location; Train and Restaurants</td>\n",
       "      <td>My place is close to Taco Loco Mexican Grill, ...</td>\n",
       "      <td>NaN</td>\n",
       "      <td>My place is close to Taco Loco Mexican Grill, ...</td>\n",
       "      <td>none</td>\n",
       "      <td>NaN</td>\n",
       "      <td>...</td>\n",
       "      <td>7.0</td>\n",
       "      <td>f</td>\n",
       "      <td>NaN</td>\n",
       "      <td>NaN</td>\n",
       "      <td>f</td>\n",
       "      <td>strict</td>\n",
       "      <td>f</td>\n",
       "      <td>f</td>\n",
       "      <td>1</td>\n",
       "      <td>2.00</td>\n",
       "    </tr>\n",
       "    <tr>\n",
       "      <td>3584</td>\n",
       "      <td>14504422</td>\n",
       "      <td>https://www.airbnb.com/rooms/14504422</td>\n",
       "      <td>20160906204935</td>\n",
       "      <td>2016-09-07</td>\n",
       "      <td>(K1) Private Room near Harvard/MIT</td>\n",
       "      <td>My place is close to My home is a warm and fri...</td>\n",
       "      <td>To ensure a smooth check in: 1. You MUST have ...</td>\n",
       "      <td>My place is close to My home is a warm and fri...</td>\n",
       "      <td>none</td>\n",
       "      <td>NaN</td>\n",
       "      <td>...</td>\n",
       "      <td>NaN</td>\n",
       "      <td>f</td>\n",
       "      <td>NaN</td>\n",
       "      <td>NaN</td>\n",
       "      <td>t</td>\n",
       "      <td>flexible</td>\n",
       "      <td>f</td>\n",
       "      <td>f</td>\n",
       "      <td>3</td>\n",
       "      <td>NaN</td>\n",
       "    </tr>\n",
       "  </tbody>\n",
       "</table>\n",
       "<p>3231 rows × 95 columns</p>\n",
       "</div>"
      ],
      "text/plain": [
       "            id                            listing_url       scrape_id  \\\n",
       "0     12147973  https://www.airbnb.com/rooms/12147973  20160906204935   \n",
       "1      3075044   https://www.airbnb.com/rooms/3075044  20160906204935   \n",
       "2         6976      https://www.airbnb.com/rooms/6976  20160906204935   \n",
       "3      1436513   https://www.airbnb.com/rooms/1436513  20160906204935   \n",
       "4      7651065   https://www.airbnb.com/rooms/7651065  20160906204935   \n",
       "...        ...                                    ...             ...   \n",
       "3580   8373729   https://www.airbnb.com/rooms/8373729  20160906204935   \n",
       "3581  14844274  https://www.airbnb.com/rooms/14844274  20160906204935   \n",
       "3582  14585486  https://www.airbnb.com/rooms/14585486  20160906204935   \n",
       "3583  14603878  https://www.airbnb.com/rooms/14603878  20160906204935   \n",
       "3584  14504422  https://www.airbnb.com/rooms/14504422  20160906204935   \n",
       "\n",
       "     last_scraped                                           name  \\\n",
       "0      2016-09-07                     Sunny Bungalow in the City   \n",
       "1      2016-09-07              Charming room in pet friendly apt   \n",
       "2      2016-09-07               Mexican Folk Art Haven in Boston   \n",
       "3      2016-09-07  Spacious Sunny Bedroom Suite in Historic Home   \n",
       "4      2016-09-07                            Come Home to Boston   \n",
       "...           ...                                            ...   \n",
       "3580   2016-09-07                           Big cozy room near T   \n",
       "3581   2016-09-07            BU Apartment DexterPark Bright room   \n",
       "3582   2016-09-07                       Gorgeous funky apartment   \n",
       "3583   2016-09-07          Great Location; Train and Restaurants   \n",
       "3584   2016-09-07             (K1) Private Room near Harvard/MIT   \n",
       "\n",
       "                                                summary  \\\n",
       "0     Cozy, sunny, family home.  Master bedroom high...   \n",
       "1     Charming and quiet room in a second floor 1910...   \n",
       "2     Come stay with a friendly, middle-aged guy in ...   \n",
       "3     Come experience the comforts of home away from...   \n",
       "4     My comfy, clean and relaxing home is one block...   \n",
       "...                                                 ...   \n",
       "3580  5 min walking to Orange Line subway with 2 sto...   \n",
       "3581  Most popular apartment in BU, best located in ...   \n",
       "3582  Funky little apartment close to public transpo...   \n",
       "3583  My place is close to Taco Loco Mexican Grill, ...   \n",
       "3584  My place is close to My home is a warm and fri...   \n",
       "\n",
       "                                                  space  \\\n",
       "0     The house has an open and cozy feel at the sam...   \n",
       "1     Small but cozy and quite room with a full size...   \n",
       "2     Come stay with a friendly, middle-aged guy in ...   \n",
       "3     Most places you find in Boston are small howev...   \n",
       "4     Clean, attractive, private room, one block fro...   \n",
       "...                                                 ...   \n",
       "3580                                                NaN   \n",
       "3581                                Best location in BU   \n",
       "3582  Modern and relaxed space with many facilities ...   \n",
       "3583                                                NaN   \n",
       "3584  To ensure a smooth check in: 1. You MUST have ...   \n",
       "\n",
       "                                            description experiences_offered  \\\n",
       "0     Cozy, sunny, family home.  Master bedroom high...                none   \n",
       "1     Charming and quiet room in a second floor 1910...                none   \n",
       "2     Come stay with a friendly, middle-aged guy in ...                none   \n",
       "3     Come experience the comforts of home away from...                none   \n",
       "4     My comfy, clean and relaxing home is one block...                none   \n",
       "...                                                 ...                 ...   \n",
       "3580  5 min walking to Orange Line subway with 2 sto...                none   \n",
       "3581  Most popular apartment in BU, best located in ...                none   \n",
       "3582  Funky little apartment close to public transpo...                none   \n",
       "3583  My place is close to Taco Loco Mexican Grill, ...                none   \n",
       "3584  My place is close to My home is a warm and fri...                none   \n",
       "\n",
       "                                  neighborhood_overview  ...  \\\n",
       "0     Roslindale is quiet, convenient and friendly. ...  ...   \n",
       "1     The room is in Roslindale, a diverse and prima...  ...   \n",
       "2     The LOCATION: Roslindale is a safe and diverse...  ...   \n",
       "3     Roslindale is a lovely little neighborhood loc...  ...   \n",
       "4     I love the proximity to downtown, the neighbor...  ...   \n",
       "...                                                 ...  ...   \n",
       "3580                                                NaN  ...   \n",
       "3581                                                NaN  ...   \n",
       "3582  Cambridge is a short walk into Boston, and set...  ...   \n",
       "3583                                                NaN  ...   \n",
       "3584                                                NaN  ...   \n",
       "\n",
       "     review_scores_value requires_license license jurisdiction_names  \\\n",
       "0                    NaN                f     NaN                NaN   \n",
       "1                    9.0                f     NaN                NaN   \n",
       "2                   10.0                f     NaN                NaN   \n",
       "3                   10.0                f     NaN                NaN   \n",
       "4                   10.0                f     NaN                NaN   \n",
       "...                  ...              ...     ...                ...   \n",
       "3580                 9.0                f     NaN                NaN   \n",
       "3581                 NaN                f     NaN                NaN   \n",
       "3582                 NaN                f     NaN                NaN   \n",
       "3583                 7.0                f     NaN                NaN   \n",
       "3584                 NaN                f     NaN                NaN   \n",
       "\n",
       "     instant_bookable cancellation_policy require_guest_profile_picture  \\\n",
       "0                   f            moderate                             f   \n",
       "1                   t            moderate                             f   \n",
       "2                   f            moderate                             t   \n",
       "3                   f            moderate                             f   \n",
       "4                   f            flexible                             f   \n",
       "...               ...                 ...                           ...   \n",
       "3580                t              strict                             f   \n",
       "3581                f              strict                             f   \n",
       "3582                f            flexible                             f   \n",
       "3583                f              strict                             f   \n",
       "3584                t            flexible                             f   \n",
       "\n",
       "     require_guest_phone_verification calculated_host_listings_count  \\\n",
       "0                                   f                              1   \n",
       "1                                   f                              1   \n",
       "2                                   f                              1   \n",
       "3                                   f                              1   \n",
       "4                                   f                              1   \n",
       "...                               ...                            ...   \n",
       "3580                                f                              8   \n",
       "3581                                f                              2   \n",
       "3582                                f                              1   \n",
       "3583                                f                              1   \n",
       "3584                                f                              3   \n",
       "\n",
       "      reviews_per_month  \n",
       "0                   NaN  \n",
       "1                  1.30  \n",
       "2                  0.47  \n",
       "3                  1.00  \n",
       "4                  2.25  \n",
       "...                 ...  \n",
       "3580               0.34  \n",
       "3581                NaN  \n",
       "3582                NaN  \n",
       "3583               2.00  \n",
       "3584                NaN  \n",
       "\n",
       "[3231 rows x 95 columns]"
      ]
     },
     "execution_count": 66,
     "metadata": {},
     "output_type": "execute_result"
    }
   ],
   "source": [
    "listings"
   ]
  },
  {
   "cell_type": "code",
   "execution_count": null,
   "metadata": {},
   "outputs": [],
   "source": []
  },
  {
   "cell_type": "code",
   "execution_count": 67,
   "metadata": {},
   "outputs": [
    {
     "name": "stdout",
     "output_type": "stream",
     "text": [
      "(3231, 3)\n",
      "beds          7\n",
      "bedrooms     10\n",
      "bathrooms    10\n",
      "dtype: int64\n",
      "beds         float64\n",
      "bedrooms     float64\n",
      "bathrooms    float64\n",
      "dtype: object\n"
     ]
    }
   ],
   "source": [
    "# looks like bed, square_feet, bedrooms, bathrooms, reviews_scores_locations, reviews_score_cleanliness have strong\n",
    "# correlation to price. With this said I want to take a look at these values more specifically and check their values\n",
    "features = ['beds','bedrooms','bathrooms']\n",
    "X_quant = listings[features] \n",
    "\n",
    "print(X_quant.shape)\n",
    "print(X_quant.isnull().sum())\n",
    "print(X_quant.dtypes)"
   ]
  },
  {
   "cell_type": "code",
   "execution_count": 68,
   "metadata": {},
   "outputs": [],
   "source": [
    "listings['property_type'] = listings.property_type.astype(str)"
   ]
  },
  {
   "cell_type": "code",
   "execution_count": 69,
   "metadata": {},
   "outputs": [
    {
     "data": {
      "text/plain": [
       "0          House\n",
       "1      Apartment\n",
       "2      Apartment\n",
       "3          House\n",
       "4          House\n",
       "         ...    \n",
       "328        House\n",
       "329    Apartment\n",
       "330        House\n",
       "331        House\n",
       "332    Apartment\n",
       "Name: property_type, Length: 300, dtype: object"
      ]
     },
     "execution_count": 69,
     "metadata": {},
     "output_type": "execute_result"
    }
   ],
   "source": [
    "listings.property_type[:300]"
   ]
  },
  {
   "cell_type": "code",
   "execution_count": 70,
   "metadata": {},
   "outputs": [],
   "source": [
    "# creating instance of labelencoder\n",
    "labelencoder = LabelEncoder()\n",
    "# Assigning numerical values and storing in another column\n",
    "listings['property_type_cat'] = labelencoder.fit_transform(listings['property_type'])"
   ]
  },
  {
   "cell_type": "code",
   "execution_count": 71,
   "metadata": {},
   "outputs": [
    {
     "data": {
      "text/plain": [
       "0      8\n",
       "1      0\n",
       "2      0\n",
       "3      8\n",
       "4      8\n",
       "      ..\n",
       "328    8\n",
       "329    0\n",
       "330    8\n",
       "331    8\n",
       "332    0\n",
       "Name: property_type_cat, Length: 300, dtype: int32"
      ]
     },
     "execution_count": 71,
     "metadata": {},
     "output_type": "execute_result"
    }
   ],
   "source": [
    "listings['property_type_cat'][:300]"
   ]
  },
  {
   "cell_type": "code",
   "execution_count": null,
   "metadata": {},
   "outputs": [],
   "source": []
  },
  {
   "cell_type": "code",
   "execution_count": 72,
   "metadata": {},
   "outputs": [],
   "source": [
    "qual_picks = ['street','property_type_cat','room_type','bed_type','extra_people','cancellation_policy','instant_bookable','market',\\\n",
    "              'host_identity_verified','host_is_superhost','host_since']\n",
    "X_qual = listings[qual_picks].astype(str)\n",
    "# creating instance of labelencoder\n",
    "labelencoder = LabelEncoder()\n",
    "# Assigning numerical values and storing in another column\n",
    "X_qual['host_is_super_quant']= labelencoder.fit_transform(X_qual['host_is_superhost'])\n",
    "X_qual['host_identity_quant']= labelencoder.fit_transform(X_qual['host_identity_verified'])\n",
    "X_qual['street'] = labelencoder.fit_transform(X_qual['street'])"
   ]
  },
  {
   "cell_type": "code",
   "execution_count": null,
   "metadata": {},
   "outputs": [],
   "source": []
  },
  {
   "cell_type": "code",
   "execution_count": null,
   "metadata": {},
   "outputs": [],
   "source": []
  },
  {
   "cell_type": "code",
   "execution_count": null,
   "metadata": {},
   "outputs": [],
   "source": []
  },
  {
   "cell_type": "code",
   "execution_count": 73,
   "metadata": {},
   "outputs": [
    {
     "name": "stdout",
     "output_type": "stream",
     "text": [
      "1.0    1605\n",
      "0.0     229\n",
      "2.0      17\n",
      "4.0       1\n",
      "Name: bedrooms, dtype: int64\n"
     ]
    }
   ],
   "source": [
    "# Feature Engineering - Editing Nan Values out\n",
    "#X_quant[X_quant.beds.isnull()]\n",
    "print(listings[listings.beds == 1].bedrooms.value_counts())\n",
    "\n",
    "\n",
    "# 1. For the most part if there is 1 room available, there is also only 1 bed\n",
    "# and if there is two rooms available, there are 2 beds.\n",
    "# Going to replace all bed nan values to match the room amount\n",
    "\n",
    "listings['beds'] = listings[\"beds\"].mask(pd.isnull, listings['bedrooms'])\n",
    "\n",
    "\n",
    "# 2. For Nan Bedrooms, I will replace them with the same value of beds. If 1 bed, then 1 room.\n",
    "\n",
    "listings['bedrooms'] = listings[\"bedrooms\"].mask(pd.isnull, listings['beds'])\n",
    "\n",
    "listings['bathrooms'] = listings[\"bathrooms\"].fillna(listings['bathrooms'].mean())\n"
   ]
  },
  {
   "cell_type": "code",
   "execution_count": 74,
   "metadata": {},
   "outputs": [
    {
     "data": {
      "text/plain": [
       "1.0    2504\n",
       "2.0     443\n",
       "1.5     167\n",
       "2.5      55\n",
       "3.0      16\n",
       "0.0      13\n",
       "3.5       9\n",
       "5.0       5\n",
       "6.0       4\n",
       "0.5       3\n",
       "4.0       2\n",
       "Name: bathrooms, dtype: int64"
      ]
     },
     "execution_count": 74,
     "metadata": {},
     "output_type": "execute_result"
    }
   ],
   "source": [
    "X_quant['bathrooms'].value_counts()"
   ]
  },
  {
   "cell_type": "code",
   "execution_count": 75,
   "metadata": {},
   "outputs": [
    {
     "data": {
      "text/plain": [
       "beds         0.002167\n",
       "bedrooms     0.003095\n",
       "bathrooms    0.003095\n",
       "dtype: float64"
      ]
     },
     "execution_count": 75,
     "metadata": {},
     "output_type": "execute_result"
    }
   ],
   "source": [
    "X_quant.isnull().mean()"
   ]
  },
  {
   "cell_type": "code",
   "execution_count": 76,
   "metadata": {},
   "outputs": [
    {
     "data": {
      "text/plain": [
       "listing_url                         0.000000\n",
       "last_scraped                        0.000000\n",
       "name                                0.000000\n",
       "summary                             0.043330\n",
       "description                         0.000000\n",
       "experiences_offered                 0.000000\n",
       "thumbnail_url                       0.167750\n",
       "medium_url                          0.167750\n",
       "picture_url                         0.000000\n",
       "xl_picture_url                      0.167750\n",
       "host_url                            0.000000\n",
       "host_name                           0.000000\n",
       "host_since                          0.000000\n",
       "host_location                       0.002786\n",
       "host_response_time                  0.123182\n",
       "host_response_rate                  0.123182\n",
       "host_acceptance_rate                0.123182\n",
       "host_is_superhost                   0.000000\n",
       "host_thumbnail_url                  0.000000\n",
       "host_picture_url                    0.000000\n",
       "host_neighbourhood                  0.094708\n",
       "host_verifications                  0.000000\n",
       "host_has_profile_pic                0.000000\n",
       "host_identity_verified              0.000000\n",
       "street                              0.000000\n",
       "neighbourhood                       0.147323\n",
       "neighbourhood_cleansed              0.000000\n",
       "city                                0.000619\n",
       "state                               0.000000\n",
       "zipcode                             0.010214\n",
       "market                              0.004024\n",
       "smart_location                      0.000000\n",
       "country_code                        0.000000\n",
       "country                             0.000000\n",
       "is_location_exact                   0.000000\n",
       "property_type                       0.000929\n",
       "room_type                           0.000000\n",
       "bed_type                            0.000000\n",
       "amenities                           0.000000\n",
       "extra_people                        0.000000\n",
       "calendar_updated                    0.000000\n",
       "calendar_last_scraped               0.000000\n",
       "requires_license                    0.000000\n",
       "instant_bookable                    0.000000\n",
       "cancellation_policy                 0.000000\n",
       "require_guest_profile_picture       0.000000\n",
       "require_guest_phone_verification    0.000000\n",
       "dtype: float64"
      ]
     },
     "execution_count": 76,
     "metadata": {},
     "output_type": "execute_result"
    }
   ],
   "source": [
    "qual.isnull().sum()/qual.shape[0]"
   ]
  },
  {
   "cell_type": "code",
   "execution_count": 77,
   "metadata": {},
   "outputs": [
    {
     "data": {
      "text/plain": [
       "street                    0\n",
       "property_type_cat         0\n",
       "room_type                 0\n",
       "bed_type                  0\n",
       "extra_people              0\n",
       "cancellation_policy       0\n",
       "instant_bookable          0\n",
       "market                    0\n",
       "host_identity_verified    0\n",
       "host_is_superhost         0\n",
       "host_since                0\n",
       "host_is_super_quant       0\n",
       "host_identity_quant       0\n",
       "dtype: int64"
      ]
     },
     "execution_count": 77,
     "metadata": {},
     "output_type": "execute_result"
    }
   ],
   "source": [
    "X_qual.isnull().sum()"
   ]
  },
  {
   "cell_type": "code",
   "execution_count": 78,
   "metadata": {},
   "outputs": [],
   "source": [
    "features = ['bedrooms','bathrooms','beds']\n",
    "X = listings[features].join(X_qual[['property_type_cat','host_is_super_quant','host_identity_quant','street']])\n",
    "y = listings['price']\n",
    "df = X.join(y)"
   ]
  },
  {
   "cell_type": "code",
   "execution_count": 79,
   "metadata": {},
   "outputs": [
    {
     "data": {
      "text/html": [
       "<div>\n",
       "<style scoped>\n",
       "    .dataframe tbody tr th:only-of-type {\n",
       "        vertical-align: middle;\n",
       "    }\n",
       "\n",
       "    .dataframe tbody tr th {\n",
       "        vertical-align: top;\n",
       "    }\n",
       "\n",
       "    .dataframe thead th {\n",
       "        text-align: right;\n",
       "    }\n",
       "</style>\n",
       "<table border=\"1\" class=\"dataframe\">\n",
       "  <thead>\n",
       "    <tr style=\"text-align: right;\">\n",
       "      <th></th>\n",
       "      <th>bedrooms</th>\n",
       "      <th>bathrooms</th>\n",
       "      <th>beds</th>\n",
       "      <th>property_type_cat</th>\n",
       "      <th>host_is_super_quant</th>\n",
       "      <th>host_identity_quant</th>\n",
       "      <th>street</th>\n",
       "    </tr>\n",
       "  </thead>\n",
       "  <tbody>\n",
       "    <tr>\n",
       "      <td>0</td>\n",
       "      <td>2.0</td>\n",
       "      <td>1.5</td>\n",
       "      <td>3.0</td>\n",
       "      <td>8</td>\n",
       "      <td>0</td>\n",
       "      <td>0</td>\n",
       "      <td>102</td>\n",
       "    </tr>\n",
       "    <tr>\n",
       "      <td>1</td>\n",
       "      <td>1.0</td>\n",
       "      <td>1.0</td>\n",
       "      <td>1.0</td>\n",
       "      <td>0</td>\n",
       "      <td>0</td>\n",
       "      <td>1</td>\n",
       "      <td>815</td>\n",
       "    </tr>\n",
       "    <tr>\n",
       "      <td>2</td>\n",
       "      <td>1.0</td>\n",
       "      <td>1.0</td>\n",
       "      <td>1.0</td>\n",
       "      <td>0</td>\n",
       "      <td>1</td>\n",
       "      <td>1</td>\n",
       "      <td>42</td>\n",
       "    </tr>\n",
       "    <tr>\n",
       "      <td>3</td>\n",
       "      <td>1.0</td>\n",
       "      <td>1.0</td>\n",
       "      <td>2.0</td>\n",
       "      <td>8</td>\n",
       "      <td>0</td>\n",
       "      <td>0</td>\n",
       "      <td>124</td>\n",
       "    </tr>\n",
       "    <tr>\n",
       "      <td>4</td>\n",
       "      <td>1.0</td>\n",
       "      <td>1.5</td>\n",
       "      <td>2.0</td>\n",
       "      <td>8</td>\n",
       "      <td>1</td>\n",
       "      <td>1</td>\n",
       "      <td>335</td>\n",
       "    </tr>\n",
       "  </tbody>\n",
       "</table>\n",
       "</div>"
      ],
      "text/plain": [
       "   bedrooms  bathrooms  beds property_type_cat  host_is_super_quant  \\\n",
       "0       2.0        1.5   3.0                 8                    0   \n",
       "1       1.0        1.0   1.0                 0                    0   \n",
       "2       1.0        1.0   1.0                 0                    1   \n",
       "3       1.0        1.0   2.0                 8                    0   \n",
       "4       1.0        1.5   2.0                 8                    1   \n",
       "\n",
       "   host_identity_quant  street  \n",
       "0                    0     102  \n",
       "1                    1     815  \n",
       "2                    1      42  \n",
       "3                    0     124  \n",
       "4                    1     335  "
      ]
     },
     "execution_count": 79,
     "metadata": {},
     "output_type": "execute_result"
    }
   ],
   "source": [
    "X.head()"
   ]
  },
  {
   "cell_type": "code",
   "execution_count": 80,
   "metadata": {},
   "outputs": [
    {
     "data": {
      "text/plain": [
       "<matplotlib.axes._subplots.AxesSubplot at 0x570cfeadc8>"
      ]
     },
     "execution_count": 80,
     "metadata": {},
     "output_type": "execute_result"
    },
    {
     "data": {
      "image/png": "[encoded data removed]",
      "text/plain": [
       "<Figure size 432x288 with 2 Axes>"
      ]
     },
     "metadata": {
      "needs_background": "light"
     },
     "output_type": "display_data"
    }
   ],
   "source": [
    "sns.heatmap(df.corr())"
   ]
  },
  {
   "cell_type": "code",
   "execution_count": 81,
   "metadata": {},
   "outputs": [],
   "source": [
    "X['property_type_cat'] = X.property_type_cat.astype(int)\n",
    "X['bedrooms'] = X['bedrooms'].astype(int)\n",
    "X['bathrooms'] = X['bathrooms'].astype(int)"
   ]
  },
  {
   "cell_type": "code",
   "execution_count": 82,
   "metadata": {},
   "outputs": [
    {
     "data": {
      "text/plain": [
       "bedrooms                 int32\n",
       "bathrooms                int32\n",
       "beds                   float64\n",
       "property_type_cat        int32\n",
       "host_is_super_quant      int32\n",
       "host_identity_quant      int32\n",
       "street                   int32\n",
       "dtype: object"
      ]
     },
     "execution_count": 82,
     "metadata": {},
     "output_type": "execute_result"
    }
   ],
   "source": [
    "X.dtypes"
   ]
  },
  {
   "cell_type": "code",
   "execution_count": 83,
   "metadata": {},
   "outputs": [
    {
     "data": {
      "text/plain": [
       "(3231,)"
      ]
     },
     "execution_count": 83,
     "metadata": {},
     "output_type": "execute_result"
    }
   ],
   "source": [
    "y.shape"
   ]
  },
  {
   "cell_type": "code",
   "execution_count": null,
   "metadata": {},
   "outputs": [],
   "source": []
  },
  {
   "cell_type": "code",
   "execution_count": 84,
   "metadata": {},
   "outputs": [
    {
     "data": {
      "text/plain": [
       "1    2681\n",
       "2     498\n",
       "3      25\n",
       "0      16\n",
       "5       5\n",
       "6       4\n",
       "4       2\n",
       "Name: bathrooms, dtype: int64"
      ]
     },
     "execution_count": 84,
     "metadata": {},
     "output_type": "execute_result"
    }
   ],
   "source": [
    "X['bathrooms'].value_counts()"
   ]
  },
  {
   "cell_type": "code",
   "execution_count": 85,
   "metadata": {},
   "outputs": [],
   "source": [
    "from sklearn.linear_model import LinearRegression\n",
    "from sklearn.metrics import mean_absolute_error"
   ]
  },
  {
   "cell_type": "code",
   "execution_count": 86,
   "metadata": {},
   "outputs": [
    {
     "data": {
      "text/plain": [
       "0.2760018341382833"
      ]
     },
     "execution_count": 86,
     "metadata": {},
     "output_type": "execute_result"
    }
   ],
   "source": [
    "X_train, X_test, y_train, y_test = train_test_split(X,y,test_size=.20, random_state=32)\n",
    "model = LinearRegression()\n",
    "model.fit(X_train, y_train)\n",
    "y_test_pred = model.predict(X_test)\n",
    "test_score = r2_score(y_test, y_test_pred)\n",
    "test_score"
   ]
  },
  {
   "cell_type": "code",
   "execution_count": 87,
   "metadata": {},
   "outputs": [
    {
     "data": {
      "text/plain": [
       "66.77687486498803"
      ]
     },
     "execution_count": 87,
     "metadata": {},
     "output_type": "execute_result"
    }
   ],
   "source": [
    "test_score = mean_absolute_error(y_test, y_test_pred)\n",
    "test_score"
   ]
  },
  {
   "cell_type": "code",
   "execution_count": null,
   "metadata": {},
   "outputs": [],
   "source": []
  },
  {
   "cell_type": "code",
   "execution_count": null,
   "metadata": {},
   "outputs": [],
   "source": []
  },
  {
   "cell_type": "code",
   "execution_count": null,
   "metadata": {},
   "outputs": [],
   "source": []
  },
  {
   "cell_type": "code",
   "execution_count": null,
   "metadata": {},
   "outputs": [],
   "source": []
  },
  {
   "cell_type": "code",
   "execution_count": null,
   "metadata": {},
   "outputs": [],
   "source": []
  },
  {
   "cell_type": "code",
   "execution_count": null,
   "metadata": {},
   "outputs": [],
   "source": []
  },
  {
   "cell_type": "code",
   "execution_count": null,
   "metadata": {},
   "outputs": [],
   "source": []
  }
 ],
 "metadata": {
  "kernelspec": {
   "display_name": "Python 3",
   "language": "python",
   "name": "python3"
  },
  "language_info": {
   "codemirror_mode": {
    "name": "ipython",
    "version": 3
   },
   "file_extension": ".py",
   "mimetype": "text/x-python",
   "name": "python",
   "nbconvert_exporter": "python",
   "pygments_lexer": "ipython3",
   "version": "3.7.4"
  }
 },
 "nbformat": 4,
 "nbformat_minor": 2
}
